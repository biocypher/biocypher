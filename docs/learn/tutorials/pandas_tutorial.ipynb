{
 "cells": [
  {
   "attachments": {},
   "cell_type": "markdown",
   "metadata": {},
   "source": [
    "# Example Notebook: BioCypher and Pandas"
   ]
  },
  {
   "attachments": {},
   "cell_type": "markdown",
   "metadata": {},
   "source": [
    "**Tip:** You can [run the tutorial interactively in Google Colab](https://colab.research.google.com/github/biocypher/biocypher/blob/main/docs/notebooks/pandas_tutorial.ipynb).\n",
    "\n",
    "\n",
    "## Introduction\n",
    "\n",
    "The main purpose of BioCypher is to facilitate the pre-processing of biomedical data, and thus save development time in the maintenance of curated knowledge graphs, while allowing simple and efficient creation of task-specific lightweight knowledge graphs in a user-friendly and biology-centric fashion.\n",
    "\n",
    "We are going to use a toy example to familiarise the user with the basic functionality of BioCypher. One central task of BioCypher is the harmonisation of dissimilar datasets describing the same entities. Thus, in this example, the input data - which in the real-world use case could come from any type of interface - are represented by simulated data containing some examples of differently formatted biomedical entities such as proteins and their interactions.\n",
    "\n",
    "There are two other versions of this tutorial, which only differ in the output format. The first uses a CSV output format to write files suitable for Neo4j admin import, and the second creates an in-memory collection of Pandas dataframes. You can find the former in the tutorial directory of the BioCypher repository. This tutorial simply takes the latter, in-memory approach to a Jupyter notebook."
   ]
  },
  {
   "attachments": {},
   "cell_type": "markdown",
   "metadata": {},
   "source": [
    "While BioCypher was designed as a graph-focused framework, due to commonalities in bioinformatics workflows, BioCypher also supports Pandas DataFrames. This allows integration with methods that use tabular data, such as machine learning and statistical analysis, for instance in the [scVerse framework](https://scverse.org)."
   ]
  },
  {
   "attachments": {},
   "cell_type": "markdown",
   "metadata": {},
   "source": [
    "## Setup"
   ]
  },
  {
   "attachments": {},
   "cell_type": "markdown",
   "metadata": {},
   "source": [
    "To run this tutorial interactively, you will first need to install perform some setup steps specific to running on Google Colab. You can collapse this section and run the setup steps with one click, as they are not required for the explanation of BioCyper's functionality. You can of course also run the steps one by one, if you want to see what is happening. The real tutorial starts with [section 1, \"Adding data\"](https://biocypher.org/notebooks/pandas_tutorial.html#Section-1:-Adding-data) (do not follow this link on colab, as you will be taken back to the website; please scroll down instead)."
   ]
  },
  {
   "cell_type": "code",
   "execution_count": 1,
   "metadata": {},
   "outputs": [
    {
     "name": "stdout",
     "output_type": "stream",
     "text": [
      "Requirement already satisfied: biocypher in /Users/slobentanzer/GitHub/tmp/biocypher/.venv/lib/python3.10/site-packages (0.9.1)\n",
      "Requirement already satisfied: PyYAML>=5.0 in /Users/slobentanzer/GitHub/tmp/biocypher/.venv/lib/python3.10/site-packages (from biocypher) (6.0.2)\n",
      "Requirement already satisfied: appdirs in /Users/slobentanzer/GitHub/tmp/biocypher/.venv/lib/python3.10/site-packages (from biocypher) (1.4.4)\n",
      "Requirement already satisfied: more_itertools in /Users/slobentanzer/GitHub/tmp/biocypher/.venv/lib/python3.10/site-packages (from biocypher) (10.6.0)\n",
      "Requirement already satisfied: neo4j-utils==0.0.7 in /Users/slobentanzer/GitHub/tmp/biocypher/.venv/lib/python3.10/site-packages (from biocypher) (0.0.7)\n",
      "Requirement already satisfied: networkx<4.0,>=3.0 in /Users/slobentanzer/GitHub/tmp/biocypher/.venv/lib/python3.10/site-packages (from biocypher) (3.4.2)\n",
      "Requirement already satisfied: pandas<3.0.0,>=2.0.1 in /Users/slobentanzer/GitHub/tmp/biocypher/.venv/lib/python3.10/site-packages (from biocypher) (2.2.3)\n",
      "Requirement already satisfied: pooch<2.0.0,>=1.7.0 in /Users/slobentanzer/GitHub/tmp/biocypher/.venv/lib/python3.10/site-packages (from biocypher) (1.8.2)\n",
      "Requirement already satisfied: rdflib<7.0.0,>=6.2.0 in /Users/slobentanzer/GitHub/tmp/biocypher/.venv/lib/python3.10/site-packages (from biocypher) (6.3.2)\n",
      "Requirement already satisfied: stringcase<2.0.0,>=1.2.0 in /Users/slobentanzer/GitHub/tmp/biocypher/.venv/lib/python3.10/site-packages (from biocypher) (1.2.0)\n",
      "Requirement already satisfied: tqdm<5.0.0,>=4.65.0 in /Users/slobentanzer/GitHub/tmp/biocypher/.venv/lib/python3.10/site-packages (from biocypher) (4.67.1)\n",
      "Requirement already satisfied: treelib==1.6.4 in /Users/slobentanzer/GitHub/tmp/biocypher/.venv/lib/python3.10/site-packages (from biocypher) (1.6.4)\n",
      "Requirement already satisfied: colorlog in /Users/slobentanzer/GitHub/tmp/biocypher/.venv/lib/python3.10/site-packages (from neo4j-utils==0.0.7->biocypher) (6.9.0)\n",
      "Requirement already satisfied: neo4j<5.0,>=4.4 in /Users/slobentanzer/GitHub/tmp/biocypher/.venv/lib/python3.10/site-packages (from neo4j-utils==0.0.7->biocypher) (4.4.12)\n",
      "Requirement already satisfied: toml in /Users/slobentanzer/GitHub/tmp/biocypher/.venv/lib/python3.10/site-packages (from neo4j-utils==0.0.7->biocypher) (0.10.2)\n",
      "Requirement already satisfied: six in /Users/slobentanzer/GitHub/tmp/biocypher/.venv/lib/python3.10/site-packages (from treelib==1.6.4->biocypher) (1.17.0)\n",
      "Requirement already satisfied: numpy>=1.22.4 in /Users/slobentanzer/GitHub/tmp/biocypher/.venv/lib/python3.10/site-packages (from pandas<3.0.0,>=2.0.1->biocypher) (2.2.1)\n",
      "Requirement already satisfied: python-dateutil>=2.8.2 in /Users/slobentanzer/GitHub/tmp/biocypher/.venv/lib/python3.10/site-packages (from pandas<3.0.0,>=2.0.1->biocypher) (2.9.0.post0)\n",
      "Requirement already satisfied: pytz>=2020.1 in /Users/slobentanzer/GitHub/tmp/biocypher/.venv/lib/python3.10/site-packages (from pandas<3.0.0,>=2.0.1->biocypher) (2024.2)\n",
      "Requirement already satisfied: tzdata>=2022.7 in /Users/slobentanzer/GitHub/tmp/biocypher/.venv/lib/python3.10/site-packages (from pandas<3.0.0,>=2.0.1->biocypher) (2024.2)\n",
      "Requirement already satisfied: platformdirs>=2.5.0 in /Users/slobentanzer/GitHub/tmp/biocypher/.venv/lib/python3.10/site-packages (from pooch<2.0.0,>=1.7.0->biocypher) (4.3.6)\n",
      "Requirement already satisfied: packaging>=20.0 in /Users/slobentanzer/GitHub/tmp/biocypher/.venv/lib/python3.10/site-packages (from pooch<2.0.0,>=1.7.0->biocypher) (24.2)\n",
      "Requirement already satisfied: requests>=2.19.0 in /Users/slobentanzer/GitHub/tmp/biocypher/.venv/lib/python3.10/site-packages (from pooch<2.0.0,>=1.7.0->biocypher) (2.32.3)\n",
      "Requirement already satisfied: isodate<0.7.0,>=0.6.0 in /Users/slobentanzer/GitHub/tmp/biocypher/.venv/lib/python3.10/site-packages (from rdflib<7.0.0,>=6.2.0->biocypher) (0.6.1)\n",
      "Requirement already satisfied: pyparsing<4,>=2.1.0 in /Users/slobentanzer/GitHub/tmp/biocypher/.venv/lib/python3.10/site-packages (from rdflib<7.0.0,>=6.2.0->biocypher) (3.2.1)\n",
      "Requirement already satisfied: charset-normalizer<4,>=2 in /Users/slobentanzer/GitHub/tmp/biocypher/.venv/lib/python3.10/site-packages (from requests>=2.19.0->pooch<2.0.0,>=1.7.0->biocypher) (3.4.1)\n",
      "Requirement already satisfied: idna<4,>=2.5 in /Users/slobentanzer/GitHub/tmp/biocypher/.venv/lib/python3.10/site-packages (from requests>=2.19.0->pooch<2.0.0,>=1.7.0->biocypher) (3.10)\n",
      "Requirement already satisfied: urllib3<3,>=1.21.1 in /Users/slobentanzer/GitHub/tmp/biocypher/.venv/lib/python3.10/site-packages (from requests>=2.19.0->pooch<2.0.0,>=1.7.0->biocypher) (2.3.0)\n",
      "Requirement already satisfied: certifi>=2017.4.17 in /Users/slobentanzer/GitHub/tmp/biocypher/.venv/lib/python3.10/site-packages (from requests>=2.19.0->pooch<2.0.0,>=1.7.0->biocypher) (2024.12.14)\n",
      "\n",
      "\u001b[1m[\u001b[0m\u001b[34;49mnotice\u001b[0m\u001b[1;39;49m]\u001b[0m\u001b[39;49m A new release of pip is available: \u001b[0m\u001b[31;49m24.3.1\u001b[0m\u001b[39;49m -> \u001b[0m\u001b[32;49m25.0.1\u001b[0m\n",
      "\u001b[1m[\u001b[0m\u001b[34;49mnotice\u001b[0m\u001b[1;39;49m]\u001b[0m\u001b[39;49m To update, run: \u001b[0m\u001b[32;49mpip install --upgrade pip\u001b[0m\n"
     ]
    }
   ],
   "source": [
    "!pip install biocypher"
   ]
  },
  {
   "attachments": {},
   "cell_type": "markdown",
   "metadata": {},
   "source": [
    "### Tutorial files\n",
    "\n",
    "In the `biocypher` root directory, you will find a `tutorial` directory with\n",
    "the files for this tutorial. The `data_generator.py` file contains the\n",
    "simulated data generation code, and the other files, specifically the `.yaml` files, are named according to the\n",
    "tutorial step they are used in.\n",
    "\n",
    "Let's download these:"
   ]
  },
  {
   "cell_type": "code",
   "execution_count": 2,
   "metadata": {},
   "outputs": [],
   "source": [
    "import yaml\n",
    "import requests\n",
    "import subprocess\n",
    "\n",
    "schema_path = \"https://raw.githubusercontent.com/biocypher/biocypher/main/tutorial/\""
   ]
  },
  {
   "cell_type": "code",
   "execution_count": 3,
   "metadata": {},
   "outputs": [
    {
     "name": "stdout",
     "output_type": "stream",
     "text": [
      "--2025-03-07 20:32:24--  https://github.com/biocypher/biocypher/raw/main/tutorial/data_generator.py\n",
      "Resolving github.com (github.com)... 140.82.121.4\n",
      "Connecting to github.com (github.com)|140.82.121.4|:443... connected.\n",
      "HTTP request sent, awaiting response... 302 Found\n",
      "Location: https://raw.githubusercontent.com/biocypher/biocypher/main/tutorial/data_generator.py [following]\n",
      "--2025-03-07 20:32:24--  https://raw.githubusercontent.com/biocypher/biocypher/main/tutorial/data_generator.py\n",
      "Resolving raw.githubusercontent.com (raw.githubusercontent.com)... 2606:50c0:8000::154, 2606:50c0:8002::154, 2606:50c0:8003::154, ...\n",
      "Connecting to raw.githubusercontent.com (raw.githubusercontent.com)|2606:50c0:8000::154|:443... connected.\n",
      "HTTP request sent, awaiting response... 200 OK\n",
      "Length: 7083 (6,9K) [text/plain]\n",
      "Saving to: ‘data_generator.py’\n",
      "\n",
      "data_generator.py   100%[===================>]   6,92K  --.-KB/s    in 0s      \n",
      "\n",
      "2025-03-07 20:32:24 (56,8 MB/s) - ‘data_generator.py’ saved [7083/7083]\n",
      "\n"
     ]
    }
   ],
   "source": [
    "!wget -O data_generator.py \"https://github.com/biocypher/biocypher/raw/main/tutorial/data_generator.py\""
   ]
  },
  {
   "cell_type": "code",
   "execution_count": 4,
   "metadata": {},
   "outputs": [
    {
     "name": "stderr",
     "output_type": "stream",
     "text": [
      "--2025-03-07 20:32:25--  https://raw.githubusercontent.com/biocypher/biocypher/main/tutorial/01_biocypher_config.yaml\n",
      "Resolving raw.githubusercontent.com (raw.githubusercontent.com)... 2606:50c0:8000::154, 2606:50c0:8002::154, 2606:50c0:8003::154, ...\n",
      "Connecting to raw.githubusercontent.com (raw.githubusercontent.com)|2606:50c0:8000::154|:443... connected.\n",
      "HTTP request sent, awaiting response... 200 OK\n",
      "Length: 64 [text/plain]\n",
      "Saving to: ‘01_biocypher_config.yaml.3’\n",
      "\n",
      "     0K                                                       100% 3,39M=0s\n",
      "\n",
      "2025-03-07 20:32:25 (3,39 MB/s) - ‘01_biocypher_config.yaml.3’ saved [64/64]\n",
      "\n",
      "--2025-03-07 20:32:25--  https://raw.githubusercontent.com/biocypher/biocypher/main/tutorial/01_biocypher_config_pandas.yaml\n",
      "Resolving raw.githubusercontent.com (raw.githubusercontent.com)... 2606:50c0:8000::154, 2606:50c0:8002::154, 2606:50c0:8003::154, ...\n",
      "Connecting to raw.githubusercontent.com (raw.githubusercontent.com)|2606:50c0:8000::154|:443... connected.\n",
      "HTTP request sent, awaiting response... 200 OK\n",
      "Length: 43 [text/plain]\n",
      "Saving to: ‘01_biocypher_config_pandas.yaml.3’\n",
      "\n",
      "     0K                                                       100% 4,56M=0s\n",
      "\n",
      "2025-03-07 20:32:25 (4,56 MB/s) - ‘01_biocypher_config_pandas.yaml.3’ saved [43/43]\n",
      "\n",
      "--2025-03-07 20:32:25--  https://raw.githubusercontent.com/biocypher/biocypher/main/tutorial/01_schema_config.yaml\n",
      "Resolving raw.githubusercontent.com (raw.githubusercontent.com)... 2606:50c0:8000::154, 2606:50c0:8002::154, 2606:50c0:8003::154, ...\n",
      "Connecting to raw.githubusercontent.com (raw.githubusercontent.com)|2606:50c0:8000::154|:443... connected.\n",
      "HTTP request sent, awaiting response... 200 OK\n",
      "Length: 93 [text/plain]\n",
      "Saving to: ‘01_schema_config.yaml.3’\n",
      "\n",
      "     0K                                                       100% 9,85M=0s\n",
      "\n",
      "2025-03-07 20:32:25 (9,85 MB/s) - ‘01_schema_config.yaml.3’ saved [93/93]\n",
      "\n",
      "--2025-03-07 20:32:25--  https://raw.githubusercontent.com/biocypher/biocypher/main/tutorial/02_biocypher_config.yaml\n",
      "Resolving raw.githubusercontent.com (raw.githubusercontent.com)... 2606:50c0:8000::154, 2606:50c0:8002::154, 2606:50c0:8003::154, ...\n",
      "Connecting to raw.githubusercontent.com (raw.githubusercontent.com)|2606:50c0:8000::154|:443... connected.\n",
      "HTTP request sent, awaiting response... 200 OK\n",
      "Length: 58 [text/plain]\n",
      "Saving to: ‘02_biocypher_config.yaml.3’\n",
      "\n",
      "     0K                                                       100% 9,22M=0s\n",
      "\n",
      "2025-03-07 20:32:25 (9,22 MB/s) - ‘02_biocypher_config.yaml.3’ saved [58/58]\n",
      "\n",
      "--2025-03-07 20:32:25--  https://raw.githubusercontent.com/biocypher/biocypher/main/tutorial/02_biocypher_config_pandas.yaml\n",
      "Resolving raw.githubusercontent.com (raw.githubusercontent.com)... 2606:50c0:8000::154, 2606:50c0:8002::154, 2606:50c0:8003::154, ...\n",
      "Connecting to raw.githubusercontent.com (raw.githubusercontent.com)|2606:50c0:8000::154|:443... connected.\n",
      "HTTP request sent, awaiting response... 200 OK\n",
      "Length: 43 [text/plain]\n",
      "Saving to: ‘02_biocypher_config_pandas.yaml.3’\n",
      "\n",
      "     0K                                                       100% 2,73M=0s\n",
      "\n",
      "2025-03-07 20:32:25 (2,73 MB/s) - ‘02_biocypher_config_pandas.yaml.3’ saved [43/43]\n",
      "\n",
      "--2025-03-07 20:32:25--  https://raw.githubusercontent.com/biocypher/biocypher/main/tutorial/02_schema_config.yaml\n",
      "Resolving raw.githubusercontent.com (raw.githubusercontent.com)... 2606:50c0:8000::154, 2606:50c0:8002::154, 2606:50c0:8003::154, ...\n",
      "Connecting to raw.githubusercontent.com (raw.githubusercontent.com)|2606:50c0:8000::154|:443... connected.\n",
      "HTTP request sent, awaiting response... 200 OK\n",
      "Length: 111 [text/plain]\n",
      "Saving to: ‘02_schema_config.yaml.3’\n",
      "\n",
      "     0K                                                       100% 15,1M=0s\n",
      "\n",
      "2025-03-07 20:32:25 (15,1 MB/s) - ‘02_schema_config.yaml.3’ saved [111/111]\n",
      "\n",
      "--2025-03-07 20:32:25--  https://raw.githubusercontent.com/biocypher/biocypher/main/tutorial/03_biocypher_config.yaml\n",
      "Resolving raw.githubusercontent.com (raw.githubusercontent.com)... 2606:50c0:8000::154, 2606:50c0:8002::154, 2606:50c0:8003::154, ...\n",
      "Connecting to raw.githubusercontent.com (raw.githubusercontent.com)|2606:50c0:8000::154|:443... connected.\n",
      "HTTP request sent, awaiting response... 200 OK\n",
      "Length: 69 [text/plain]\n",
      "Saving to: ‘03_biocypher_config.yaml.3’\n",
      "\n",
      "     0K                                                       100% 6,58M=0s\n",
      "\n",
      "2025-03-07 20:32:25 (6,58 MB/s) - ‘03_biocypher_config.yaml.3’ saved [69/69]\n",
      "\n",
      "--2025-03-07 20:32:25--  https://raw.githubusercontent.com/biocypher/biocypher/main/tutorial/03_biocypher_config_pandas.yaml\n",
      "Resolving raw.githubusercontent.com (raw.githubusercontent.com)... 2606:50c0:8000::154, 2606:50c0:8002::154, 2606:50c0:8003::154, ...\n",
      "Connecting to raw.githubusercontent.com (raw.githubusercontent.com)|2606:50c0:8000::154|:443... connected.\n",
      "HTTP request sent, awaiting response... 200 OK\n",
      "Length: 43 [text/plain]\n",
      "Saving to: ‘03_biocypher_config_pandas.yaml.3’\n",
      "\n",
      "     0K                                                       100% 3,42M=0s\n",
      "\n",
      "2025-03-07 20:32:25 (3,42 MB/s) - ‘03_biocypher_config_pandas.yaml.3’ saved [43/43]\n",
      "\n",
      "--2025-03-07 20:32:25--  https://raw.githubusercontent.com/biocypher/biocypher/main/tutorial/03_schema_config.yaml\n",
      "Resolving raw.githubusercontent.com (raw.githubusercontent.com)... 2606:50c0:8000::154, 2606:50c0:8002::154, 2606:50c0:8003::154, ...\n",
      "Connecting to raw.githubusercontent.com (raw.githubusercontent.com)|2606:50c0:8000::154|:443... connected.\n",
      "HTTP request sent, awaiting response... 200 OK\n",
      "Length: 121 [text/plain]\n",
      "Saving to: ‘03_schema_config.yaml.3’\n",
      "\n",
      "     0K                                                       100% 10,5M=0s\n",
      "\n",
      "2025-03-07 20:32:25 (10,5 MB/s) - ‘03_schema_config.yaml.3’ saved [121/121]\n",
      "\n",
      "--2025-03-07 20:32:25--  https://raw.githubusercontent.com/biocypher/biocypher/main/tutorial/04_biocypher_config.yaml\n",
      "Resolving raw.githubusercontent.com (raw.githubusercontent.com)... 2606:50c0:8000::154, 2606:50c0:8002::154, 2606:50c0:8003::154, ...\n",
      "Connecting to raw.githubusercontent.com (raw.githubusercontent.com)|2606:50c0:8000::154|:443... connected.\n",
      "HTTP request sent, awaiting response... 200 OK\n",
      "Length: 63 [text/plain]\n",
      "Saving to: ‘04_biocypher_config.yaml.3’\n",
      "\n",
      "     0K                                                       100% 7,51M=0s\n",
      "\n",
      "2025-03-07 20:32:25 (7,51 MB/s) - ‘04_biocypher_config.yaml.3’ saved [63/63]\n",
      "\n",
      "--2025-03-07 20:32:25--  https://raw.githubusercontent.com/biocypher/biocypher/main/tutorial/04_biocypher_config_pandas.yaml\n",
      "Resolving raw.githubusercontent.com (raw.githubusercontent.com)... 2606:50c0:8000::154, 2606:50c0:8002::154, 2606:50c0:8003::154, ...\n",
      "Connecting to raw.githubusercontent.com (raw.githubusercontent.com)|2606:50c0:8000::154|:443... connected.\n",
      "HTTP request sent, awaiting response... 200 OK\n",
      "Length: 43 [text/plain]\n",
      "Saving to: ‘04_biocypher_config_pandas.yaml.3’\n",
      "\n",
      "     0K                                                       100% 3,73M=0s\n",
      "\n",
      "2025-03-07 20:32:25 (3,73 MB/s) - ‘04_biocypher_config_pandas.yaml.3’ saved [43/43]\n",
      "\n",
      "--2025-03-07 20:32:25--  https://raw.githubusercontent.com/biocypher/biocypher/main/tutorial/04_schema_config.yaml\n",
      "Resolving raw.githubusercontent.com (raw.githubusercontent.com)... 2606:50c0:8000::154, 2606:50c0:8002::154, 2606:50c0:8003::154, ...\n",
      "Connecting to raw.githubusercontent.com (raw.githubusercontent.com)|2606:50c0:8000::154|:443... connected.\n",
      "HTTP request sent, awaiting response... 200 OK\n",
      "Length: 221 [text/plain]\n",
      "Saving to: ‘04_schema_config.yaml.3’\n",
      "\n",
      "     0K                                                       100% 19,2M=0s\n",
      "\n",
      "2025-03-07 20:32:25 (19,2 MB/s) - ‘04_schema_config.yaml.3’ saved [221/221]\n",
      "\n",
      "--2025-03-07 20:32:25--  https://raw.githubusercontent.com/biocypher/biocypher/main/tutorial/05_biocypher_config.yaml\n",
      "Resolving raw.githubusercontent.com (raw.githubusercontent.com)... 2606:50c0:8000::154, 2606:50c0:8002::154, 2606:50c0:8003::154, ...\n",
      "Connecting to raw.githubusercontent.com (raw.githubusercontent.com)|2606:50c0:8000::154|:443... connected.\n",
      "HTTP request sent, awaiting response... 200 OK\n",
      "Length: 72 [text/plain]\n",
      "Saving to: ‘05_biocypher_config.yaml.3’\n",
      "\n",
      "     0K                                                       100% 6,24M=0s\n",
      "\n",
      "2025-03-07 20:32:25 (6,24 MB/s) - ‘05_biocypher_config.yaml.3’ saved [72/72]\n",
      "\n",
      "--2025-03-07 20:32:26--  https://raw.githubusercontent.com/biocypher/biocypher/main/tutorial/05_biocypher_config_pandas.yaml\n",
      "Resolving raw.githubusercontent.com (raw.githubusercontent.com)... 2606:50c0:8000::154, 2606:50c0:8002::154, 2606:50c0:8003::154, ...\n",
      "Connecting to raw.githubusercontent.com (raw.githubusercontent.com)|2606:50c0:8000::154|:443... connected.\n",
      "HTTP request sent, awaiting response... 200 OK\n",
      "Length: 43 [text/plain]\n",
      "Saving to: ‘05_biocypher_config_pandas.yaml.3’\n",
      "\n",
      "     0K                                                       100% 8,20M=0s\n",
      "\n",
      "2025-03-07 20:32:26 (8,20 MB/s) - ‘05_biocypher_config_pandas.yaml.3’ saved [43/43]\n",
      "\n",
      "--2025-03-07 20:32:26--  https://raw.githubusercontent.com/biocypher/biocypher/main/tutorial/05_schema_config.yaml\n",
      "Resolving raw.githubusercontent.com (raw.githubusercontent.com)... 2606:50c0:8000::154, 2606:50c0:8002::154, 2606:50c0:8003::154, ...\n",
      "Connecting to raw.githubusercontent.com (raw.githubusercontent.com)|2606:50c0:8000::154|:443... connected.\n",
      "HTTP request sent, awaiting response... 200 OK\n",
      "Length: 370 [text/plain]\n",
      "Saving to: ‘05_schema_config.yaml.3’\n",
      "\n",
      "     0K                                                       100% 70,6M=0s\n",
      "\n",
      "2025-03-07 20:32:26 (70,6 MB/s) - ‘05_schema_config.yaml.3’ saved [370/370]\n",
      "\n",
      "--2025-03-07 20:32:26--  https://raw.githubusercontent.com/biocypher/biocypher/main/tutorial/06_biocypher_config.yaml\n",
      "Resolving raw.githubusercontent.com (raw.githubusercontent.com)... 2606:50c0:8000::154, 2606:50c0:8002::154, 2606:50c0:8003::154, ...\n",
      "Connecting to raw.githubusercontent.com (raw.githubusercontent.com)|2606:50c0:8000::154|:443... connected.\n",
      "HTTP request sent, awaiting response... 200 OK\n",
      "Length: 66 [text/plain]\n",
      "Saving to: ‘06_biocypher_config.yaml.3’\n",
      "\n",
      "     0K                                                       100% 3,00M=0s\n",
      "\n",
      "2025-03-07 20:32:26 (3,00 MB/s) - ‘06_biocypher_config.yaml.3’ saved [66/66]\n",
      "\n",
      "--2025-03-07 20:32:26--  https://raw.githubusercontent.com/biocypher/biocypher/main/tutorial/06_biocypher_config_pandas.yaml\n",
      "Resolving raw.githubusercontent.com (raw.githubusercontent.com)... 2606:50c0:8000::154, 2606:50c0:8002::154, 2606:50c0:8003::154, ...\n",
      "Connecting to raw.githubusercontent.com (raw.githubusercontent.com)|2606:50c0:8000::154|:443... connected.\n",
      "HTTP request sent, awaiting response... 200 OK\n",
      "Length: 43 [text/plain]\n",
      "Saving to: ‘06_biocypher_config_pandas.yaml.3’\n",
      "\n",
      "     0K                                                       100% 3,73M=0s\n",
      "\n",
      "2025-03-07 20:32:26 (3,73 MB/s) - ‘06_biocypher_config_pandas.yaml.3’ saved [43/43]\n",
      "\n",
      "--2025-03-07 20:32:26--  https://raw.githubusercontent.com/biocypher/biocypher/main/tutorial/06_schema_config.yaml\n",
      "Resolving raw.githubusercontent.com (raw.githubusercontent.com)... 2606:50c0:8000::154, 2606:50c0:8002::154, 2606:50c0:8003::154, ...\n",
      "Connecting to raw.githubusercontent.com (raw.githubusercontent.com)|2606:50c0:8000::154|:443... connected.\n",
      "HTTP request sent, awaiting response... 200 OK\n",
      "Length: 579 [text/plain]\n",
      "Saving to: ‘06_schema_config.yaml.3’\n",
      "\n",
      "     0K                                                       100% 69,0M=0s\n",
      "\n",
      "2025-03-07 20:32:26 (69,0 MB/s) - ‘06_schema_config.yaml.3’ saved [579/579]\n",
      "\n",
      "--2025-03-07 20:32:26--  https://raw.githubusercontent.com/biocypher/biocypher/main/tutorial/06_schema_config_pandas.yaml\n",
      "Resolving raw.githubusercontent.com (raw.githubusercontent.com)... 2606:50c0:8000::154, 2606:50c0:8002::154, 2606:50c0:8003::154, ...\n",
      "Connecting to raw.githubusercontent.com (raw.githubusercontent.com)|2606:50c0:8000::154|:443... connected.\n",
      "HTTP request sent, awaiting response... 200 OK\n",
      "Length: 579 [text/plain]\n",
      "Saving to: ‘06_schema_config_pandas.yaml.3’\n",
      "\n",
      "     0K                                                       100% 42,5M=0s\n",
      "\n",
      "2025-03-07 20:32:26 (42,5 MB/s) - ‘06_schema_config_pandas.yaml.3’ saved [579/579]\n",
      "\n",
      "--2025-03-07 20:32:26--  https://raw.githubusercontent.com/biocypher/biocypher/main/tutorial/07_biocypher_config.yaml\n",
      "Resolving raw.githubusercontent.com (raw.githubusercontent.com)... 2606:50c0:8000::154, 2606:50c0:8002::154, 2606:50c0:8003::154, ...\n",
      "Connecting to raw.githubusercontent.com (raw.githubusercontent.com)|2606:50c0:8000::154|:443... connected.\n",
      "HTTP request sent, awaiting response... 200 OK\n",
      "Length: 79 [text/plain]\n",
      "Saving to: ‘07_biocypher_config.yaml.3’\n",
      "\n",
      "     0K                                                       100% 10,8M=0s\n",
      "\n",
      "2025-03-07 20:32:26 (10,8 MB/s) - ‘07_biocypher_config.yaml.3’ saved [79/79]\n",
      "\n",
      "--2025-03-07 20:32:26--  https://raw.githubusercontent.com/biocypher/biocypher/main/tutorial/07_biocypher_config_pandas.yaml\n",
      "Resolving raw.githubusercontent.com (raw.githubusercontent.com)... 2606:50c0:8000::154, 2606:50c0:8002::154, 2606:50c0:8003::154, ...\n",
      "Connecting to raw.githubusercontent.com (raw.githubusercontent.com)|2606:50c0:8000::154|:443... connected.\n",
      "HTTP request sent, awaiting response... 200 OK\n",
      "Length: 43 [text/plain]\n",
      "Saving to: ‘07_biocypher_config_pandas.yaml.3’\n",
      "\n",
      "     0K                                                       100% 8,20M=0s\n",
      "\n",
      "2025-03-07 20:32:26 (8,20 MB/s) - ‘07_biocypher_config_pandas.yaml.3’ saved [43/43]\n",
      "\n",
      "--2025-03-07 20:32:26--  https://raw.githubusercontent.com/biocypher/biocypher/main/tutorial/07_schema_config.yaml\n",
      "Resolving raw.githubusercontent.com (raw.githubusercontent.com)... 2606:50c0:8000::154, 2606:50c0:8002::154, 2606:50c0:8003::154, ...\n",
      "Connecting to raw.githubusercontent.com (raw.githubusercontent.com)|2606:50c0:8000::154|:443... connected.\n",
      "HTTP request sent, awaiting response... 200 OK\n",
      "Length: 711 [text/plain]\n",
      "Saving to: ‘07_schema_config.yaml.3’\n",
      "\n",
      "     0K                                                       100% 56,5M=0s\n",
      "\n",
      "2025-03-07 20:32:26 (56,5 MB/s) - ‘07_schema_config.yaml.3’ saved [711/711]\n",
      "\n"
     ]
    }
   ],
   "source": [
    "owner = \"biocypher\"\n",
    "repo = \"biocypher\"\n",
    "path = \"tutorial\"  # The path within the repository (optional, leave empty for the root directory)\n",
    "github_url = \"https://api.github.com/repos/{owner}/{repo}/contents/{path}\"\n",
    "\n",
    "api_url = github_url.format(owner=owner, repo=repo, path=path)\n",
    "response = requests.get(api_url)\n",
    "\n",
    "# Get list of yaml files from the repo\n",
    "files = response.json()\n",
    "yamls = []\n",
    "for file in files:\n",
    "    if file[\"type\"] == \"file\":\n",
    "        if file[\"name\"].endswith(\".yaml\"):\n",
    "            yamls.append(file[\"name\"])\n",
    "           \n",
    "# wget all yaml files \n",
    "for yaml in yamls:\n",
    "    url_path = schema_path + yaml\n",
    "    subprocess.run([\"wget\", url_path])"
   ]
  },
  {
   "attachments": {},
   "cell_type": "markdown",
   "metadata": {},
   "source": [
    "Let's also define functions with which we can visualize those"
   ]
  },
  {
   "cell_type": "code",
   "execution_count": 5,
   "metadata": {},
   "outputs": [],
   "source": [
    "# helper function to print yaml files\n",
    "import yaml\n",
    "def print_yaml(file_path):\n",
    "    with open(file_path, 'r') as file:\n",
    "        yaml_data = yaml.safe_load(file)\n",
    "\n",
    "    print(\"--------------\")\n",
    "    print(yaml.dump(yaml_data, sort_keys=False, indent=4))\n",
    "    print(\"--------------\")"
   ]
  },
  {
   "cell_type": "markdown",
   "metadata": {},
   "source": [
    "## Configuration\n",
    "BioCypher is configured using a YAML file; it comes with a default (which you\n",
    "can see in the\n",
    "[Configuration](https://biocypher.org/installation.html#configuration) section).\n",
    "You can use it, for instance, to select an output format, the output directory,\n",
    "separators, logging level, and other options. For this tutorial, we will use a\n",
    "dedicated configuration file for each of the steps. The configuration files are\n",
    "located in the `tutorial` directory, and are called using the\n",
    "`biocypher_config_path` argument at instantiation of the BioCypher interface.\n",
    "For more information, see also the [Quickstart\n",
    "Configuration](https://biocypher.org/quickstart.html#the-biocypher-configuration-yaml-file)\n",
    "section."
   ]
  },
  {
   "attachments": {},
   "cell_type": "markdown",
   "metadata": {},
   "source": [
    "## Section 1: Adding data\n",
    "\n",
    "### Input data stream (\"adapter\")\n",
    "The basic operation of adding data to the knowledge graph requires two\n",
    "components: an input stream of data (which we call adapter) and a configuration\n",
    "for the resulting desired output (the schema configuration). The former will be\n",
    "simulated by calling the `Protein` class of our data generator 10 times."
   ]
  },
  {
   "cell_type": "code",
   "execution_count": 6,
   "metadata": {},
   "outputs": [],
   "source": [
    "# create a list of proteins to be imported\n",
    "from data_generator import Protein\n",
    "n_proteins = 3\n",
    "proteins = [Protein() for _ in range(n_proteins)]"
   ]
  },
  {
   "attachments": {},
   "cell_type": "markdown",
   "metadata": {},
   "source": [
    "Each protein in our simulated data has a UniProt ID, a label\n",
    "(\"uniprot_protein\"), and a dictionary of properties describing it. This is -\n",
    "purely by coincidence - very close to the input BioCypher expects (for nodes):\n",
    "- a unique identifier\n",
    "- an input label (to allow mapping to the ontology, see the second step below)\n",
    "- a dictionary of further properties (which can be empty)\n",
    "\n",
    "These should be presented to BioCypher in the form of a tuple. To achieve this\n",
    "representation, we can use a generator function that iterates through our\n",
    "simulated input data and, for each entity, forms the corresponding tuple. The\n",
    "use of a generator allows for efficient streaming of larger datasets where\n",
    "required."
   ]
  },
  {
   "cell_type": "code",
   "execution_count": 7,
   "metadata": {},
   "outputs": [],
   "source": [
    "def node_generator(proteins):\n",
    "    for protein in proteins:\n",
    "        yield (\n",
    "            protein.get_id(),\n",
    "            protein.get_label(),\n",
    "            protein.get_properties(),\n",
    "        )\n",
    "entities = node_generator(proteins)"
   ]
  },
  {
   "attachments": {},
   "cell_type": "markdown",
   "metadata": {},
   "source": [
    "The concept of an adapter can become arbitrarily complex and involve\n",
    "programmatic access to databases, API requests, asynchronous queries, context\n",
    "managers, and other complicating factors. However, it always boils down to\n",
    "providing the BioCypher driver with a collection of tuples, one for each entity\n",
    "in the input data. For more info, see the section on\n",
    "[Adapters](../adapters.md).\n",
    "\n",
    "As descibed above, *nodes* possess:\n",
    "\n",
    "- a mandatory ID,\n",
    "- a mandatory label, and\n",
    "- a property dictionary,\n",
    "\n",
    "while *edges* possess:\n",
    "\n",
    "- an (optional) ID,\n",
    "- two mandatory IDs for source and target,\n",
    "- a mandatory label, and\n",
    "- a property dictionary.\n",
    "\n",
    "How these entities are mapped to the ontological hierarchy underlying a\n",
    "BioCypher graph is determined by their mandatory labels, which connect the input\n",
    "data stream to the schema configuration. This we will see in the following\n",
    "section."
   ]
  },
  {
   "attachments": {},
   "cell_type": "markdown",
   "metadata": {},
   "source": [
    "### Schema configuration\n",
    "How each BioCypher graph is structured is determined by the schema configuration\n",
    "YAML file that is given to the BioCypher interface. This also serves to ground\n",
    "the entities of the graph in the biomedical realm by using an ontological\n",
    "hierarchy. In this tutorial, we refer to the Biolink model as the general\n",
    "backbone of our ontological hierarchy. The basic premise of the schema\n",
    "configuration YAML file is that each component of the desired knowledge graph\n",
    "output should be configured here; if (and only if) an entity is represented in\n",
    "the schema configuration *and* is present in the input data stream, will it be\n",
    "part of our knowledge graph.\n",
    "\n",
    "In our case, since we only import proteins, we only require few lines of\n",
    "configuration:"
   ]
  },
  {
   "cell_type": "code",
   "execution_count": 8,
   "metadata": {},
   "outputs": [
    {
     "name": "stdout",
     "output_type": "stream",
     "text": [
      "--------------\n",
      "protein:\n",
      "    represented_as: node\n",
      "    preferred_id: uniprot\n",
      "    input_label: uniprot_protein\n",
      "\n",
      "--------------\n"
     ]
    }
   ],
   "source": [
    "print_yaml('01_schema_config.yaml')"
   ]
  },
  {
   "attachments": {},
   "cell_type": "markdown",
   "metadata": {},
   "source": [
    "The first line (`protein`) identifies our entity and connects to the ontological\n",
    "backbone; here we define the first class to be represented in the graph. In the\n",
    "configuration YAML, we represent entities — similar to the internal\n",
    "representation of Biolink — in lower sentence case (e.g., \"small molecule\").\n",
    "Conversely, for class names, in file names, and property graph labels, we use\n",
    "PascalCase instead (e.g., \"SmallMolecule\") to avoid issues with handling spaces.\n",
    "The transformation is done by BioCypher internally. BioCypher does not strictly\n",
    "enforce the entities allowed in this class definition; in fact, we provide\n",
    "[several methods of extending the existing ontological backbone *ad hoc* by\n",
    "providing custom inheritance or hybridising\n",
    "ontologies](https://biocypher.org/tutorial-ontology.html#model-extensions).\n",
    "However, every entity should at some point be connected to the underlying\n",
    "ontology, otherwise the multiple hierarchical labels will not be populated.\n",
    "Following this first line are three indented values of the protein class.\n",
    "\n",
    "The second line (`represented_as`) tells BioCypher in which way each entity\n",
    "should be represented in the graph; the only options are `node` and `edge`.\n",
    "Representation as an edge is only possible when source and target IDs are\n",
    "provided in the input data stream. Conversely, relationships can be represented\n",
    "as both `node` or `edge`, depending on the desired output. When a relationship\n",
    "should be represented as a node, i.e., \"reified\", BioCypher takes care to create\n",
    "a set of two edges and a node in place of the relationship. This is useful when\n",
    "we want to connect the relationship to other entities in the graph, for example\n",
    "literature references.\n",
    "\n",
    "The third line (`preferred_id`) informs the uniqueness of represented entities\n",
    "by selecting an ontological namespace around which the definition of uniqueness\n",
    "should revolve. In our example, if a protein has its own uniprot ID, it is\n",
    "understood to be a unique entity. When there are multiple protein isoforms\n",
    "carrying the same uniprot ID, they are understood to be aggregated to result in\n",
    "only one unique entity in the graph. Decisions around uniqueness of graph\n",
    "constituents sometimes require some consideration in task-specific\n",
    "applications. Selection of a namespace also has effects in identifier mapping;\n",
    "in our case, for protein nodes that do not carry a uniprot ID, identifier\n",
    "mapping will attempt to find a uniprot ID given the other identifiers of that\n",
    "node. To account for the broadest possible range of identifier systems while\n",
    "also dealing with parsing of namespace prefixes and validation, we refer to the\n",
    "[Bioregistry](https://bioregistry.io) project namespaces, which should be\n",
    "preferred values for this field.\n",
    "\n",
    "Finally, the fourth line (`input_label`) connects the input data stream to the\n",
    "configuration; here we indicate which label to expect in the input tuple for\n",
    "each class in the graph. In our case, we expect \"uniprot_protein\" as the label\n",
    "for each protein in the input data stream; all other input entities that do not\n",
    "carry this label are ignored as long as they are not in the schema\n",
    "configuration."
   ]
  },
  {
   "attachments": {},
   "cell_type": "markdown",
   "metadata": {},
   "source": [
    "### Creating the graph (using the BioCypher interface)\n",
    "All that remains to be done now is to instantiate the BioCypher interface (as the\n",
    "main means of communicating with BioCypher) and call the function to create the\n",
    "graph. "
   ]
  },
  {
   "cell_type": "code",
   "execution_count": 9,
   "metadata": {},
   "outputs": [
    {
     "name": "stderr",
     "output_type": "stream",
     "text": [
      "INFO -- This is BioCypher v0.9.1.\n",
      "INFO -- Logging into `biocypher-log/biocypher-20250307-203226.log`.\n",
      "INFO -- Running BioCypher with schema configuration from 01_schema_config.yaml.\n",
      "INFO -- Loading ontologies...\n",
      "INFO -- Instantiating OntologyAdapter class for https://github.com/biolink/biolink-model/raw/v3.2.1/biolink-model.owl.ttl.\n"
     ]
    }
   ],
   "source": [
    "from biocypher import BioCypher\n",
    "bc = BioCypher(\n",
    "    biocypher_config_path='01_biocypher_config_pandas.yaml',\n",
    "    schema_config_path='01_schema_config.yaml',\n",
    ")\n",
    "# Add the entities that we generated above to the graph\n",
    "bc.add(entities)"
   ]
  },
  {
   "cell_type": "code",
   "execution_count": 10,
   "metadata": {},
   "outputs": [
    {
     "data": {
      "text/html": [
       "<div>\n",
       "<style scoped>\n",
       "    .dataframe tbody tr th:only-of-type {\n",
       "        vertical-align: middle;\n",
       "    }\n",
       "\n",
       "    .dataframe tbody tr th {\n",
       "        vertical-align: top;\n",
       "    }\n",
       "\n",
       "    .dataframe thead th {\n",
       "        text-align: right;\n",
       "    }\n",
       "</style>\n",
       "<table border=\"1\" class=\"dataframe\">\n",
       "  <thead>\n",
       "    <tr style=\"text-align: right;\">\n",
       "      <th></th>\n",
       "      <th>node_id</th>\n",
       "      <th>node_label</th>\n",
       "      <th>sequence</th>\n",
       "      <th>description</th>\n",
       "      <th>taxon</th>\n",
       "      <th>id</th>\n",
       "      <th>preferred_id</th>\n",
       "    </tr>\n",
       "  </thead>\n",
       "  <tbody>\n",
       "    <tr>\n",
       "      <th>0</th>\n",
       "      <td>F6M7Z7</td>\n",
       "      <td>protein</td>\n",
       "      <td>IGQSELYWNAWQEWLDYDNFVQIRGIRPQMQIDEFGLDMIDTRAFTE</td>\n",
       "      <td>Lorem ipsum mbgrm</td>\n",
       "      <td>9606</td>\n",
       "      <td>F6M7Z7</td>\n",
       "      <td>uniprot</td>\n",
       "    </tr>\n",
       "    <tr>\n",
       "      <th>1</th>\n",
       "      <td>O8Y0M7</td>\n",
       "      <td>protein</td>\n",
       "      <td>SCEMHQTMEMQLFGSWHYQPIQILFEIYYWPVD</td>\n",
       "      <td>Lorem ipsum mwpax</td>\n",
       "      <td>9606</td>\n",
       "      <td>O8Y0M7</td>\n",
       "      <td>uniprot</td>\n",
       "    </tr>\n",
       "    <tr>\n",
       "      <th>2</th>\n",
       "      <td>O5P9G9</td>\n",
       "      <td>protein</td>\n",
       "      <td>GNFFNKHGYTTQKKDCFRPKMCPLLMCRRIWHGVSSVVWRGSCMP</td>\n",
       "      <td>Lorem ipsum wcjeq</td>\n",
       "      <td>9606</td>\n",
       "      <td>O5P9G9</td>\n",
       "      <td>uniprot</td>\n",
       "    </tr>\n",
       "  </tbody>\n",
       "</table>\n",
       "</div>"
      ],
      "text/plain": [
       "  node_id node_label                                         sequence  \\\n",
       "0  F6M7Z7    protein  IGQSELYWNAWQEWLDYDNFVQIRGIRPQMQIDEFGLDMIDTRAFTE   \n",
       "1  O8Y0M7    protein                SCEMHQTMEMQLFGSWHYQPIQILFEIYYWPVD   \n",
       "2  O5P9G9    protein    GNFFNKHGYTTQKKDCFRPKMCPLLMCRRIWHGVSSVVWRGSCMP   \n",
       "\n",
       "         description taxon      id preferred_id  \n",
       "0  Lorem ipsum mbgrm  9606  F6M7Z7      uniprot  \n",
       "1  Lorem ipsum mwpax  9606  O8Y0M7      uniprot  \n",
       "2  Lorem ipsum wcjeq  9606  O5P9G9      uniprot  "
      ]
     },
     "execution_count": 10,
     "metadata": {},
     "output_type": "execute_result"
    }
   ],
   "source": [
    "# Print the graph as a dictionary of pandas DataFrame(s) per node label\n",
    "bc.to_df()[\"protein\"]"
   ]
  },
  {
   "attachments": {},
   "cell_type": "markdown",
   "metadata": {},
   "source": [
    "## Section 2: Merging data\n",
    "\n",
    "### Plain merge\n",
    "\n",
    "Using the workflow described above with minor changes, we can merge data from\n",
    "different input streams. If we do not want to introduce additional ontological\n",
    "subcategories, we can simply add the new input stream to the existing one and\n",
    "add the new label to the schema configuration (the new label being\n",
    "`entrez_protein`). In this case, we would add the following to the schema\n",
    "configuration:"
   ]
  },
  {
   "cell_type": "code",
   "execution_count": 11,
   "metadata": {},
   "outputs": [],
   "source": [
    "from data_generator import Protein, EntrezProtein"
   ]
  },
  {
   "cell_type": "code",
   "execution_count": 12,
   "metadata": {},
   "outputs": [
    {
     "name": "stdout",
     "output_type": "stream",
     "text": [
      "--------------\n",
      "protein:\n",
      "    represented_as: node\n",
      "    preferred_id: uniprot\n",
      "    input_label:\n",
      "    - uniprot_protein\n",
      "    - entrez_protein\n",
      "\n",
      "--------------\n"
     ]
    }
   ],
   "source": [
    "print_yaml('02_schema_config.yaml')"
   ]
  },
  {
   "cell_type": "code",
   "execution_count": 13,
   "metadata": {},
   "outputs": [
    {
     "name": "stderr",
     "output_type": "stream",
     "text": [
      "INFO -- Running BioCypher with schema configuration from 02_schema_config.yaml.\n",
      "INFO -- Loading ontologies...\n",
      "INFO -- Instantiating OntologyAdapter class for https://github.com/biolink/biolink-model/raw/v3.2.1/biolink-model.owl.ttl.\n"
     ]
    }
   ],
   "source": [
    "# Create a list of proteins to be imported\n",
    "proteins = [\n",
    "    p for sublist in zip(\n",
    "        [Protein() for _ in range(n_proteins)],\n",
    "        [EntrezProtein() for _ in range(n_proteins)],\n",
    "    ) for p in sublist\n",
    "]\n",
    "# Create a new BioCypher instance\n",
    "bc = BioCypher(\n",
    "    biocypher_config_path='02_biocypher_config_pandas.yaml',\n",
    "    schema_config_path='02_schema_config.yaml',\n",
    ")\n",
    "# Run the import\n",
    "bc.add(node_generator(proteins))"
   ]
  },
  {
   "cell_type": "code",
   "execution_count": 14,
   "metadata": {},
   "outputs": [
    {
     "data": {
      "text/html": [
       "<div>\n",
       "<style scoped>\n",
       "    .dataframe tbody tr th:only-of-type {\n",
       "        vertical-align: middle;\n",
       "    }\n",
       "\n",
       "    .dataframe tbody tr th {\n",
       "        vertical-align: top;\n",
       "    }\n",
       "\n",
       "    .dataframe thead th {\n",
       "        text-align: right;\n",
       "    }\n",
       "</style>\n",
       "<table border=\"1\" class=\"dataframe\">\n",
       "  <thead>\n",
       "    <tr style=\"text-align: right;\">\n",
       "      <th></th>\n",
       "      <th>node_id</th>\n",
       "      <th>node_label</th>\n",
       "      <th>sequence</th>\n",
       "      <th>description</th>\n",
       "      <th>taxon</th>\n",
       "      <th>id</th>\n",
       "      <th>preferred_id</th>\n",
       "    </tr>\n",
       "  </thead>\n",
       "  <tbody>\n",
       "    <tr>\n",
       "      <th>0</th>\n",
       "      <td>M5L6M9</td>\n",
       "      <td>protein</td>\n",
       "      <td>VQLVILKLMFKAKLVANNLYAPWHH</td>\n",
       "      <td>Lorem ipsum cjusl</td>\n",
       "      <td>9606</td>\n",
       "      <td>M5L6M9</td>\n",
       "      <td>uniprot</td>\n",
       "    </tr>\n",
       "    <tr>\n",
       "      <th>1</th>\n",
       "      <td>767429</td>\n",
       "      <td>protein</td>\n",
       "      <td>WIMWMQHYCKIVQRTRQSCTGAIS</td>\n",
       "      <td>Lorem ipsum bcuez</td>\n",
       "      <td>9606</td>\n",
       "      <td>767429</td>\n",
       "      <td>uniprot</td>\n",
       "    </tr>\n",
       "    <tr>\n",
       "      <th>2</th>\n",
       "      <td>G3H8N9</td>\n",
       "      <td>protein</td>\n",
       "      <td>HQCIWAEPNSYEGEVHALFAAVGVTVHDVKNQIM</td>\n",
       "      <td>Lorem ipsum otkfx</td>\n",
       "      <td>9606</td>\n",
       "      <td>G3H8N9</td>\n",
       "      <td>uniprot</td>\n",
       "    </tr>\n",
       "    <tr>\n",
       "      <th>3</th>\n",
       "      <td>774050</td>\n",
       "      <td>protein</td>\n",
       "      <td>SHRTMQMYQRSVGKGIPCDSC</td>\n",
       "      <td>Lorem ipsum byuxg</td>\n",
       "      <td>9606</td>\n",
       "      <td>774050</td>\n",
       "      <td>uniprot</td>\n",
       "    </tr>\n",
       "    <tr>\n",
       "      <th>4</th>\n",
       "      <td>C2G0M3</td>\n",
       "      <td>protein</td>\n",
       "      <td>RRPIWQDYPNPTYTWSQCEVLSLIKYWC</td>\n",
       "      <td>Lorem ipsum rygko</td>\n",
       "      <td>9606</td>\n",
       "      <td>C2G0M3</td>\n",
       "      <td>uniprot</td>\n",
       "    </tr>\n",
       "    <tr>\n",
       "      <th>5</th>\n",
       "      <td>264315</td>\n",
       "      <td>protein</td>\n",
       "      <td>KEMHFLWKCQSFYFGFFEACRK</td>\n",
       "      <td>Lorem ipsum kvuni</td>\n",
       "      <td>9606</td>\n",
       "      <td>264315</td>\n",
       "      <td>uniprot</td>\n",
       "    </tr>\n",
       "  </tbody>\n",
       "</table>\n",
       "</div>"
      ],
      "text/plain": [
       "  node_id node_label                            sequence        description  \\\n",
       "0  M5L6M9    protein           VQLVILKLMFKAKLVANNLYAPWHH  Lorem ipsum cjusl   \n",
       "1  767429    protein            WIMWMQHYCKIVQRTRQSCTGAIS  Lorem ipsum bcuez   \n",
       "2  G3H8N9    protein  HQCIWAEPNSYEGEVHALFAAVGVTVHDVKNQIM  Lorem ipsum otkfx   \n",
       "3  774050    protein               SHRTMQMYQRSVGKGIPCDSC  Lorem ipsum byuxg   \n",
       "4  C2G0M3    protein        RRPIWQDYPNPTYTWSQCEVLSLIKYWC  Lorem ipsum rygko   \n",
       "5  264315    protein              KEMHFLWKCQSFYFGFFEACRK  Lorem ipsum kvuni   \n",
       "\n",
       "  taxon      id preferred_id  \n",
       "0  9606  M5L6M9      uniprot  \n",
       "1  9606  767429      uniprot  \n",
       "2  9606  G3H8N9      uniprot  \n",
       "3  9606  774050      uniprot  \n",
       "4  9606  C2G0M3      uniprot  \n",
       "5  9606  264315      uniprot  "
      ]
     },
     "execution_count": 14,
     "metadata": {},
     "output_type": "execute_result"
    }
   ],
   "source": [
    "bc.to_df()[\"protein\"]"
   ]
  },
  {
   "attachments": {},
   "cell_type": "markdown",
   "metadata": {},
   "source": [
    "This again creates a single DataFrame, now for both protein types, but now including\n",
    "both input streams (you should note both uniprot & entrez style IDs in the id column). However, we are generating our `entrez`\n",
    "proteins as having entrez IDs, which could result in problems in querying.\n",
    "Additionally, a strict import mode including regex pattern matching of\n",
    "identifiers will fail at this point due to the difference in pattern of UniProt\n",
    "vs. Entrez IDs. This issue could be resolved by mapping the Entrez IDs to\n",
    "UniProt IDs, but we will instead use the opportunity to demonstrate how to\n",
    "merge data from different sources into the same ontological class using *ad\n",
    "hoc* subclasses."
   ]
  },
  {
   "attachments": {},
   "cell_type": "markdown",
   "metadata": {},
   "source": [
    "### *Ad hoc* subclassing"
   ]
  },
  {
   "attachments": {},
   "cell_type": "markdown",
   "metadata": {},
   "source": [
    "In the previous section, we saw how to merge data from different sources into\n",
    "the same ontological class. However, we did not resolve the issue of the\n",
    "`entrez` proteins living in a different namespace than the `uniprot` proteins,\n",
    "which could result in problems in querying. In proteins, it would probably be\n",
    "more appropriate to solve this problem using identifier mapping, but in other\n",
    "categories, e.g., pathways, this may not be possible because of a lack of\n",
    "one-to-one mapping between different data sources. Thus, if we so desire, we\n",
    "can merge datasets into the same ontological class by creating *ad hoc*\n",
    "subclasses implicitly through BioCypher, by providing multiple preferred\n",
    "identifiers. In our case, we update our schema configuration as follows:\n"
   ]
  },
  {
   "cell_type": "code",
   "execution_count": 15,
   "metadata": {},
   "outputs": [
    {
     "name": "stdout",
     "output_type": "stream",
     "text": [
      "--------------\n",
      "protein:\n",
      "    represented_as: node\n",
      "    preferred_id:\n",
      "    - uniprot\n",
      "    - entrez\n",
      "    input_label:\n",
      "    - uniprot_protein\n",
      "    - entrez_protein\n",
      "\n",
      "--------------\n"
     ]
    }
   ],
   "source": [
    "print_yaml('03_schema_config.yaml')"
   ]
  },
  {
   "attachments": {},
   "cell_type": "markdown",
   "metadata": {},
   "source": [
    "This will \"implicitly\" create two subclasses of the `protein` class, which will\n",
    "inherit the entire hierarchy of the `protein` class. The two subclasses will be\n",
    "named using a combination of their preferred namespace and the name of the\n",
    "parent class, separated by a dot, i.e., `uniprot.protein` and `entrez.protein`.\n",
    "In this manner, they can be identified as proteins regardless of their sources\n",
    "by any queries for the generic `protein` class, while still carrying\n",
    "information about their namespace and avoiding identifier conflicts.\n",
    "\n",
    "<div class=\"alert alert-info\">\n",
    "The only change affected upon the code from the previous section is the\n",
    "referral to the updated schema configuration file.\n",
    "</div>\n",
    "\n",
    "<div class=\"alert alert-success\">\n",
    "In the output, we now generate two separate files for the `protein` class, one\n",
    "for each subclass (with names in PascalCase).\n",
    "</div>\n",
    "\n",
    "Let's create a DataFrame with the same nodes as above, but with a different schema configuration:"
   ]
  },
  {
   "cell_type": "code",
   "execution_count": 16,
   "metadata": {},
   "outputs": [
    {
     "name": "stderr",
     "output_type": "stream",
     "text": [
      "INFO -- Running BioCypher with schema configuration from 03_schema_config.yaml.\n",
      "INFO -- Loading ontologies...\n",
      "INFO -- Instantiating OntologyAdapter class for https://github.com/biolink/biolink-model/raw/v3.2.1/biolink-model.owl.ttl.\n"
     ]
    },
    {
     "name": "stdout",
     "output_type": "stream",
     "text": [
      "uniprot.protein\n"
     ]
    },
    {
     "data": {
      "text/html": [
       "<div>\n",
       "<style scoped>\n",
       "    .dataframe tbody tr th:only-of-type {\n",
       "        vertical-align: middle;\n",
       "    }\n",
       "\n",
       "    .dataframe tbody tr th {\n",
       "        vertical-align: top;\n",
       "    }\n",
       "\n",
       "    .dataframe thead th {\n",
       "        text-align: right;\n",
       "    }\n",
       "</style>\n",
       "<table border=\"1\" class=\"dataframe\">\n",
       "  <thead>\n",
       "    <tr style=\"text-align: right;\">\n",
       "      <th></th>\n",
       "      <th>node_id</th>\n",
       "      <th>node_label</th>\n",
       "      <th>sequence</th>\n",
       "      <th>description</th>\n",
       "      <th>taxon</th>\n",
       "      <th>id</th>\n",
       "      <th>preferred_id</th>\n",
       "    </tr>\n",
       "  </thead>\n",
       "  <tbody>\n",
       "    <tr>\n",
       "      <th>0</th>\n",
       "      <td>M5L6M9</td>\n",
       "      <td>uniprot.protein</td>\n",
       "      <td>VQLVILKLMFKAKLVANNLYAPWHH</td>\n",
       "      <td>Lorem ipsum cjusl</td>\n",
       "      <td>9606</td>\n",
       "      <td>M5L6M9</td>\n",
       "      <td>uniprot</td>\n",
       "    </tr>\n",
       "    <tr>\n",
       "      <th>1</th>\n",
       "      <td>G3H8N9</td>\n",
       "      <td>uniprot.protein</td>\n",
       "      <td>HQCIWAEPNSYEGEVHALFAAVGVTVHDVKNQIM</td>\n",
       "      <td>Lorem ipsum otkfx</td>\n",
       "      <td>9606</td>\n",
       "      <td>G3H8N9</td>\n",
       "      <td>uniprot</td>\n",
       "    </tr>\n",
       "    <tr>\n",
       "      <th>2</th>\n",
       "      <td>C2G0M3</td>\n",
       "      <td>uniprot.protein</td>\n",
       "      <td>RRPIWQDYPNPTYTWSQCEVLSLIKYWC</td>\n",
       "      <td>Lorem ipsum rygko</td>\n",
       "      <td>9606</td>\n",
       "      <td>C2G0M3</td>\n",
       "      <td>uniprot</td>\n",
       "    </tr>\n",
       "  </tbody>\n",
       "</table>\n",
       "</div>"
      ],
      "text/plain": [
       "  node_id       node_label                            sequence  \\\n",
       "0  M5L6M9  uniprot.protein           VQLVILKLMFKAKLVANNLYAPWHH   \n",
       "1  G3H8N9  uniprot.protein  HQCIWAEPNSYEGEVHALFAAVGVTVHDVKNQIM   \n",
       "2  C2G0M3  uniprot.protein        RRPIWQDYPNPTYTWSQCEVLSLIKYWC   \n",
       "\n",
       "         description taxon      id preferred_id  \n",
       "0  Lorem ipsum cjusl  9606  M5L6M9      uniprot  \n",
       "1  Lorem ipsum otkfx  9606  G3H8N9      uniprot  \n",
       "2  Lorem ipsum rygko  9606  C2G0M3      uniprot  "
      ]
     },
     "metadata": {},
     "output_type": "display_data"
    },
    {
     "name": "stdout",
     "output_type": "stream",
     "text": [
      "entrez.protein\n"
     ]
    },
    {
     "data": {
      "text/html": [
       "<div>\n",
       "<style scoped>\n",
       "    .dataframe tbody tr th:only-of-type {\n",
       "        vertical-align: middle;\n",
       "    }\n",
       "\n",
       "    .dataframe tbody tr th {\n",
       "        vertical-align: top;\n",
       "    }\n",
       "\n",
       "    .dataframe thead th {\n",
       "        text-align: right;\n",
       "    }\n",
       "</style>\n",
       "<table border=\"1\" class=\"dataframe\">\n",
       "  <thead>\n",
       "    <tr style=\"text-align: right;\">\n",
       "      <th></th>\n",
       "      <th>node_id</th>\n",
       "      <th>node_label</th>\n",
       "      <th>sequence</th>\n",
       "      <th>description</th>\n",
       "      <th>taxon</th>\n",
       "      <th>id</th>\n",
       "      <th>preferred_id</th>\n",
       "    </tr>\n",
       "  </thead>\n",
       "  <tbody>\n",
       "    <tr>\n",
       "      <th>0</th>\n",
       "      <td>767429</td>\n",
       "      <td>entrez.protein</td>\n",
       "      <td>WIMWMQHYCKIVQRTRQSCTGAIS</td>\n",
       "      <td>Lorem ipsum bcuez</td>\n",
       "      <td>9606</td>\n",
       "      <td>767429</td>\n",
       "      <td>entrez</td>\n",
       "    </tr>\n",
       "    <tr>\n",
       "      <th>1</th>\n",
       "      <td>774050</td>\n",
       "      <td>entrez.protein</td>\n",
       "      <td>SHRTMQMYQRSVGKGIPCDSC</td>\n",
       "      <td>Lorem ipsum byuxg</td>\n",
       "      <td>9606</td>\n",
       "      <td>774050</td>\n",
       "      <td>entrez</td>\n",
       "    </tr>\n",
       "    <tr>\n",
       "      <th>2</th>\n",
       "      <td>264315</td>\n",
       "      <td>entrez.protein</td>\n",
       "      <td>KEMHFLWKCQSFYFGFFEACRK</td>\n",
       "      <td>Lorem ipsum kvuni</td>\n",
       "      <td>9606</td>\n",
       "      <td>264315</td>\n",
       "      <td>entrez</td>\n",
       "    </tr>\n",
       "  </tbody>\n",
       "</table>\n",
       "</div>"
      ],
      "text/plain": [
       "  node_id      node_label                  sequence        description taxon  \\\n",
       "0  767429  entrez.protein  WIMWMQHYCKIVQRTRQSCTGAIS  Lorem ipsum bcuez  9606   \n",
       "1  774050  entrez.protein     SHRTMQMYQRSVGKGIPCDSC  Lorem ipsum byuxg  9606   \n",
       "2  264315  entrez.protein    KEMHFLWKCQSFYFGFFEACRK  Lorem ipsum kvuni  9606   \n",
       "\n",
       "       id preferred_id  \n",
       "0  767429       entrez  \n",
       "1  774050       entrez  \n",
       "2  264315       entrez  "
      ]
     },
     "metadata": {},
     "output_type": "display_data"
    }
   ],
   "source": [
    "bc = BioCypher(\n",
    "    biocypher_config_path='03_biocypher_config_pandas.yaml',\n",
    "    schema_config_path='03_schema_config.yaml',\n",
    ")\n",
    "bc.add(node_generator(proteins))\n",
    "for name, df in bc.to_df().items():\n",
    "    print(name)\n",
    "    display(df)"
   ]
  },
  {
   "attachments": {},
   "cell_type": "markdown",
   "metadata": {},
   "source": [
    "Now we see two separate DataFrames, one for each subclass of the `protein` class."
   ]
  },
  {
   "attachments": {},
   "cell_type": "markdown",
   "metadata": {},
   "source": [
    "## Section 3: Handling properties\n",
    "While ID and label are mandatory components of our knowledge graph, properties\n",
    "are optional and can include different types of information on the entities. In\n",
    "source data, properties are represented in arbitrary ways, and designations\n",
    "rarely overlap even for the most trivial of cases (spelling differences,\n",
    "formatting, etc). Additionally, some data sources contain a large wealth of\n",
    "information about entities, most of which may not be needed for the given task.\n",
    "Thus, it is often desirable to filter out properties that are not needed to\n",
    "save time, disk space, and memory.\n",
    "\n",
    "<div class=\"alert alert-info\">\n",
    "\n",
    "Maintaining consistent properties per entity type is particularly important\n",
    "when using the admin import feature of Neo4j, which requires consistency\n",
    "between the header and data files. Properties that are introduced into only\n",
    "some of the rows will lead to column misalignment and import failure. In\n",
    "\"online mode\", this is not an issue.\n",
    "\n",
    "</div>\n",
    "\n",
    "We will take a look at how to handle property selection in BioCypher in a\n",
    "way that is flexible and easy to maintain."
   ]
  },
  {
   "attachments": {},
   "cell_type": "markdown",
   "metadata": {},
   "source": [
    "### Designated properties\n",
    "\n",
    "The simplest and most straightforward way to ensure that properties are\n",
    "consistent for each entity type is to designate them explicitly in the schema\n",
    "configuration. This is done by adding a `properties` key to the entity type\n",
    "configuration. The value of this key is another dictionary, where in the\n",
    "standard case the keys are the names of the properties that the entity type\n",
    "should possess, and the values give the type of the property. Possible values\n",
    "are:\n",
    "\n",
    "- `str` (or `string`),\n",
    "\n",
    "- `int` (or `integer`, `long`),\n",
    "\n",
    "- `float` (or `double`, `dbl`),\n",
    "\n",
    "- `bool` (or `boolean`),\n",
    "\n",
    "- arrays of any of these types (indicated by square brackets, e.g. `string[]`).\n",
    "\n",
    "In the case of properties that are not present in (some of) the source data,\n",
    "BioCypher will add them to the output with a default value of `None`.\n",
    "Additional properties in the input that are not represented in these designated\n",
    "property names will be ignored. Let's imagine that some, but not all, of our\n",
    "protein nodes have a `mass` value. If we want to include the mass value on all\n",
    "proteins, we can add the following to our schema configuration:"
   ]
  },
  {
   "cell_type": "code",
   "execution_count": 17,
   "metadata": {},
   "outputs": [
    {
     "name": "stdout",
     "output_type": "stream",
     "text": [
      "--------------\n",
      "protein:\n",
      "    represented_as: node\n",
      "    preferred_id:\n",
      "    - uniprot\n",
      "    - entrez\n",
      "    input_label:\n",
      "    - uniprot_protein\n",
      "    - entrez_protein\n",
      "    properties:\n",
      "        sequence: str\n",
      "        description: str\n",
      "        taxon: str\n",
      "        mass: int\n",
      "\n",
      "--------------\n"
     ]
    }
   ],
   "source": [
    "print_yaml('04_schema_config.yaml')"
   ]
  },
  {
   "attachments": {},
   "cell_type": "markdown",
   "metadata": {},
   "source": [
    "This will add the `mass` property to all proteins (in addition to the three we\n",
    "had before); if not encountered, the column will be empty. Implicit subclasses\n",
    "will automatically inherit the property configuration; in this case, both\n",
    "`uniprot.protein` and `entrez.protein` will have the `mass` property, even\n",
    "though the `entrez` proteins do not have a `mass` value in the input data.\n",
    "\n",
    "<div class=\"alert alert-info\">\n",
    "If we wanted to ignore the mass value for all properties, we could simply\n",
    "remove the `mass` key from the `properties` dictionary.\n",
    "</div>"
   ]
  },
  {
   "cell_type": "code",
   "execution_count": 18,
   "metadata": {},
   "outputs": [],
   "source": [
    "from data_generator import EntrezProtein, RandomPropertyProtein"
   ]
  },
  {
   "cell_type": "code",
   "execution_count": 19,
   "metadata": {},
   "outputs": [
    {
     "name": "stderr",
     "output_type": "stream",
     "text": [
      "INFO -- Running BioCypher with schema configuration from 04_schema_config.yaml.\n",
      "INFO -- Loading ontologies...\n",
      "INFO -- Instantiating OntologyAdapter class for https://github.com/biolink/biolink-model/raw/v3.2.1/biolink-model.owl.ttl.\n"
     ]
    },
    {
     "name": "stdout",
     "output_type": "stream",
     "text": [
      "uniprot.protein\n"
     ]
    },
    {
     "data": {
      "text/html": [
       "<div>\n",
       "<style scoped>\n",
       "    .dataframe tbody tr th:only-of-type {\n",
       "        vertical-align: middle;\n",
       "    }\n",
       "\n",
       "    .dataframe tbody tr th {\n",
       "        vertical-align: top;\n",
       "    }\n",
       "\n",
       "    .dataframe thead th {\n",
       "        text-align: right;\n",
       "    }\n",
       "</style>\n",
       "<table border=\"1\" class=\"dataframe\">\n",
       "  <thead>\n",
       "    <tr style=\"text-align: right;\">\n",
       "      <th></th>\n",
       "      <th>node_id</th>\n",
       "      <th>node_label</th>\n",
       "      <th>sequence</th>\n",
       "      <th>description</th>\n",
       "      <th>taxon</th>\n",
       "      <th>mass</th>\n",
       "      <th>id</th>\n",
       "      <th>preferred_id</th>\n",
       "    </tr>\n",
       "  </thead>\n",
       "  <tbody>\n",
       "    <tr>\n",
       "      <th>0</th>\n",
       "      <td>B4F6M1</td>\n",
       "      <td>uniprot.protein</td>\n",
       "      <td>KQGAYLKNAHCLPAAMISPWSCSPNFVWKTKDNEDDILTEAAGEQWQS</td>\n",
       "      <td>Lorem ipsum wqmjt</td>\n",
       "      <td>6116</td>\n",
       "      <td>NaN</td>\n",
       "      <td>B4F6M1</td>\n",
       "      <td>uniprot</td>\n",
       "    </tr>\n",
       "    <tr>\n",
       "      <th>1</th>\n",
       "      <td>J8S4Q8</td>\n",
       "      <td>uniprot.protein</td>\n",
       "      <td>EMYWSCPEVTHEGEMYPYADFYAFNLICIGKCRYLME</td>\n",
       "      <td>Lorem ipsum pghkf</td>\n",
       "      <td>4135</td>\n",
       "      <td>NaN</td>\n",
       "      <td>J8S4Q8</td>\n",
       "      <td>uniprot</td>\n",
       "    </tr>\n",
       "    <tr>\n",
       "      <th>2</th>\n",
       "      <td>D5M8K6</td>\n",
       "      <td>uniprot.protein</td>\n",
       "      <td>KEHLAAMVTDPLGPWSMMGGLALFLPINSEEWLMMQYAYEHPQTNETDR</td>\n",
       "      <td>Lorem ipsum taqsx</td>\n",
       "      <td>4535</td>\n",
       "      <td>6811.0</td>\n",
       "      <td>D5M8K6</td>\n",
       "      <td>uniprot</td>\n",
       "    </tr>\n",
       "  </tbody>\n",
       "</table>\n",
       "</div>"
      ],
      "text/plain": [
       "  node_id       node_label                                           sequence  \\\n",
       "0  B4F6M1  uniprot.protein   KQGAYLKNAHCLPAAMISPWSCSPNFVWKTKDNEDDILTEAAGEQWQS   \n",
       "1  J8S4Q8  uniprot.protein              EMYWSCPEVTHEGEMYPYADFYAFNLICIGKCRYLME   \n",
       "2  D5M8K6  uniprot.protein  KEHLAAMVTDPLGPWSMMGGLALFLPINSEEWLMMQYAYEHPQTNETDR   \n",
       "\n",
       "         description taxon    mass      id preferred_id  \n",
       "0  Lorem ipsum wqmjt  6116     NaN  B4F6M1      uniprot  \n",
       "1  Lorem ipsum pghkf  4135     NaN  J8S4Q8      uniprot  \n",
       "2  Lorem ipsum taqsx  4535  6811.0  D5M8K6      uniprot  "
      ]
     },
     "metadata": {},
     "output_type": "display_data"
    },
    {
     "name": "stdout",
     "output_type": "stream",
     "text": [
      "entrez.protein\n"
     ]
    },
    {
     "data": {
      "text/html": [
       "<div>\n",
       "<style scoped>\n",
       "    .dataframe tbody tr th:only-of-type {\n",
       "        vertical-align: middle;\n",
       "    }\n",
       "\n",
       "    .dataframe tbody tr th {\n",
       "        vertical-align: top;\n",
       "    }\n",
       "\n",
       "    .dataframe thead th {\n",
       "        text-align: right;\n",
       "    }\n",
       "</style>\n",
       "<table border=\"1\" class=\"dataframe\">\n",
       "  <thead>\n",
       "    <tr style=\"text-align: right;\">\n",
       "      <th></th>\n",
       "      <th>node_id</th>\n",
       "      <th>node_label</th>\n",
       "      <th>sequence</th>\n",
       "      <th>description</th>\n",
       "      <th>taxon</th>\n",
       "      <th>mass</th>\n",
       "      <th>id</th>\n",
       "      <th>preferred_id</th>\n",
       "    </tr>\n",
       "  </thead>\n",
       "  <tbody>\n",
       "    <tr>\n",
       "      <th>0</th>\n",
       "      <td>285343</td>\n",
       "      <td>entrez.protein</td>\n",
       "      <td>EMFSHFMMQLTDPWKNWNECHWRHSAPHPSIMLFTFSSPYNWIIEL</td>\n",
       "      <td>Lorem ipsum wqrqh</td>\n",
       "      <td>9606</td>\n",
       "      <td>None</td>\n",
       "      <td>285343</td>\n",
       "      <td>entrez</td>\n",
       "    </tr>\n",
       "    <tr>\n",
       "      <th>1</th>\n",
       "      <td>678056</td>\n",
       "      <td>entrez.protein</td>\n",
       "      <td>DFSKSCPEGGVTIPPLIYNIWDCKESAIWTHFRRDMMSNDEILQHW...</td>\n",
       "      <td>Lorem ipsum ibutr</td>\n",
       "      <td>9606</td>\n",
       "      <td>None</td>\n",
       "      <td>678056</td>\n",
       "      <td>entrez</td>\n",
       "    </tr>\n",
       "    <tr>\n",
       "      <th>2</th>\n",
       "      <td>131909</td>\n",
       "      <td>entrez.protein</td>\n",
       "      <td>KMCSINAQWAWCQPTGNAQWAPGN</td>\n",
       "      <td>Lorem ipsum pbjcm</td>\n",
       "      <td>9606</td>\n",
       "      <td>None</td>\n",
       "      <td>131909</td>\n",
       "      <td>entrez</td>\n",
       "    </tr>\n",
       "  </tbody>\n",
       "</table>\n",
       "</div>"
      ],
      "text/plain": [
       "  node_id      node_label                                           sequence  \\\n",
       "0  285343  entrez.protein     EMFSHFMMQLTDPWKNWNECHWRHSAPHPSIMLFTFSSPYNWIIEL   \n",
       "1  678056  entrez.protein  DFSKSCPEGGVTIPPLIYNIWDCKESAIWTHFRRDMMSNDEILQHW...   \n",
       "2  131909  entrez.protein                           KMCSINAQWAWCQPTGNAQWAPGN   \n",
       "\n",
       "         description taxon  mass      id preferred_id  \n",
       "0  Lorem ipsum wqrqh  9606  None  285343       entrez  \n",
       "1  Lorem ipsum ibutr  9606  None  678056       entrez  \n",
       "2  Lorem ipsum pbjcm  9606  None  131909       entrez  "
      ]
     },
     "metadata": {},
     "output_type": "display_data"
    }
   ],
   "source": [
    "# Create a list of proteins to be imported (now with properties)\n",
    "proteins = [\n",
    "    p for sublist in zip(\n",
    "        [RandomPropertyProtein() for _ in range(n_proteins)],\n",
    "        [EntrezProtein() for _ in range(n_proteins)],\n",
    "    ) for p in sublist\n",
    "]\n",
    "# New instance, populated, and to DataFrame\n",
    "bc = BioCypher(\n",
    "    biocypher_config_path='04_biocypher_config_pandas.yaml',\n",
    "    schema_config_path='04_schema_config.yaml',\n",
    ")\n",
    "bc.add(node_generator(proteins))\n",
    "for name, df in bc.to_df().items():\n",
    "    print(name)\n",
    "    display(df)"
   ]
  },
  {
   "attachments": {},
   "cell_type": "markdown",
   "metadata": {},
   "source": [
    "### Inheriting properties\n",
    "Sometimes, explicit designation of properties requires a lot of maintenance\n",
    "work, particularly for classes with many properties. In these cases, it may be\n",
    "more convenient to inherit properties from a parent class. This is done by\n",
    "adding a `properties` key to a suitable parent class configuration, and then\n",
    "defining inheritance via the `is_a` key in the child class configuration and\n",
    "setting the `inherit_properties` key to `true`.\n",
    "\n",
    "Let's say we have an additional `protein isoform` class, which can reasonably\n",
    "inherit from `protein` and should carry the same properties as the parent. We\n",
    "can add the following to our schema configuration:"
   ]
  },
  {
   "cell_type": "code",
   "execution_count": 20,
   "metadata": {},
   "outputs": [],
   "source": [
    "from data_generator import RandomPropertyProteinIsoform"
   ]
  },
  {
   "cell_type": "code",
   "execution_count": 21,
   "metadata": {},
   "outputs": [
    {
     "name": "stdout",
     "output_type": "stream",
     "text": [
      "--------------\n",
      "protein:\n",
      "    represented_as: node\n",
      "    preferred_id:\n",
      "    - uniprot\n",
      "    - entrez\n",
      "    input_label:\n",
      "    - uniprot_protein\n",
      "    - entrez_protein\n",
      "    properties:\n",
      "        sequence: str\n",
      "        description: str\n",
      "        taxon: str\n",
      "        mass: int\n",
      "protein isoform:\n",
      "    is_a: protein\n",
      "    inherit_properties: true\n",
      "    represented_as: node\n",
      "    preferred_id: uniprot\n",
      "    input_label: uniprot_isoform\n",
      "\n",
      "--------------\n"
     ]
    }
   ],
   "source": [
    "print_yaml('05_schema_config.yaml')"
   ]
  },
  {
   "attachments": {},
   "cell_type": "markdown",
   "metadata": {},
   "source": [
    "This allows maintenance of property lists for many classes at once. If the child\n",
    "class has properties already, they will be kept (if they are not present in the\n",
    "parent class) or replaced by the parent class properties (if they are present).\n",
    "\n",
    "Again, apart from adding the protein isoforms to the input stream, the code\n",
    "for this example is identical to the previous one except for the reference to\n",
    "the updated schema configuration.\n",
    "\n",
    "We now create three separate DataFrames, all of which are children of the\n",
    "`protein` class; two implicit children (`uniprot.protein` and `entrez.protein`)\n",
    "and one explicit child (`protein isoform`).\n"
   ]
  },
  {
   "cell_type": "code",
   "execution_count": 22,
   "metadata": {},
   "outputs": [
    {
     "name": "stderr",
     "output_type": "stream",
     "text": [
      "INFO -- Running BioCypher with schema configuration from 05_schema_config.yaml.\n",
      "INFO -- Loading ontologies...\n",
      "INFO -- Instantiating OntologyAdapter class for https://github.com/biolink/biolink-model/raw/v3.2.1/biolink-model.owl.ttl.\n"
     ]
    },
    {
     "name": "stdout",
     "output_type": "stream",
     "text": [
      "uniprot.protein\n"
     ]
    },
    {
     "data": {
      "text/html": [
       "<div>\n",
       "<style scoped>\n",
       "    .dataframe tbody tr th:only-of-type {\n",
       "        vertical-align: middle;\n",
       "    }\n",
       "\n",
       "    .dataframe tbody tr th {\n",
       "        vertical-align: top;\n",
       "    }\n",
       "\n",
       "    .dataframe thead th {\n",
       "        text-align: right;\n",
       "    }\n",
       "</style>\n",
       "<table border=\"1\" class=\"dataframe\">\n",
       "  <thead>\n",
       "    <tr style=\"text-align: right;\">\n",
       "      <th></th>\n",
       "      <th>node_id</th>\n",
       "      <th>node_label</th>\n",
       "      <th>sequence</th>\n",
       "      <th>description</th>\n",
       "      <th>taxon</th>\n",
       "      <th>mass</th>\n",
       "      <th>id</th>\n",
       "      <th>preferred_id</th>\n",
       "    </tr>\n",
       "  </thead>\n",
       "  <tbody>\n",
       "    <tr>\n",
       "      <th>0</th>\n",
       "      <td>F8X2E7</td>\n",
       "      <td>uniprot.protein</td>\n",
       "      <td>VEYFPWPYEEWGQAITNEQEPKHDNSVHVNLGPRQWNFQNYT</td>\n",
       "      <td>Lorem ipsum sucas</td>\n",
       "      <td>2449</td>\n",
       "      <td>NaN</td>\n",
       "      <td>F8X2E7</td>\n",
       "      <td>uniprot</td>\n",
       "    </tr>\n",
       "    <tr>\n",
       "      <th>1</th>\n",
       "      <td>W9Y6I4</td>\n",
       "      <td>uniprot.protein</td>\n",
       "      <td>IKDRRTDVNCSIRKTSNGEEECCPMWHMDYVLSSMACEKDQETW</td>\n",
       "      <td>Lorem ipsum iimgv</td>\n",
       "      <td>9323</td>\n",
       "      <td>8324.0</td>\n",
       "      <td>W9Y6I4</td>\n",
       "      <td>uniprot</td>\n",
       "    </tr>\n",
       "    <tr>\n",
       "      <th>2</th>\n",
       "      <td>Z0Y5B3</td>\n",
       "      <td>uniprot.protein</td>\n",
       "      <td>YQCVLFEMQVTLCITYIMSQENPNISI</td>\n",
       "      <td>Lorem ipsum ljnbm</td>\n",
       "      <td>8891</td>\n",
       "      <td>NaN</td>\n",
       "      <td>Z0Y5B3</td>\n",
       "      <td>uniprot</td>\n",
       "    </tr>\n",
       "  </tbody>\n",
       "</table>\n",
       "</div>"
      ],
      "text/plain": [
       "  node_id       node_label                                      sequence  \\\n",
       "0  F8X2E7  uniprot.protein    VEYFPWPYEEWGQAITNEQEPKHDNSVHVNLGPRQWNFQNYT   \n",
       "1  W9Y6I4  uniprot.protein  IKDRRTDVNCSIRKTSNGEEECCPMWHMDYVLSSMACEKDQETW   \n",
       "2  Z0Y5B3  uniprot.protein                   YQCVLFEMQVTLCITYIMSQENPNISI   \n",
       "\n",
       "         description taxon    mass      id preferred_id  \n",
       "0  Lorem ipsum sucas  2449     NaN  F8X2E7      uniprot  \n",
       "1  Lorem ipsum iimgv  9323  8324.0  W9Y6I4      uniprot  \n",
       "2  Lorem ipsum ljnbm  8891     NaN  Z0Y5B3      uniprot  "
      ]
     },
     "metadata": {},
     "output_type": "display_data"
    },
    {
     "name": "stdout",
     "output_type": "stream",
     "text": [
      "protein isoform\n"
     ]
    },
    {
     "data": {
      "text/html": [
       "<div>\n",
       "<style scoped>\n",
       "    .dataframe tbody tr th:only-of-type {\n",
       "        vertical-align: middle;\n",
       "    }\n",
       "\n",
       "    .dataframe tbody tr th {\n",
       "        vertical-align: top;\n",
       "    }\n",
       "\n",
       "    .dataframe thead th {\n",
       "        text-align: right;\n",
       "    }\n",
       "</style>\n",
       "<table border=\"1\" class=\"dataframe\">\n",
       "  <thead>\n",
       "    <tr style=\"text-align: right;\">\n",
       "      <th></th>\n",
       "      <th>node_id</th>\n",
       "      <th>node_label</th>\n",
       "      <th>sequence</th>\n",
       "      <th>description</th>\n",
       "      <th>taxon</th>\n",
       "      <th>mass</th>\n",
       "      <th>id</th>\n",
       "      <th>preferred_id</th>\n",
       "    </tr>\n",
       "  </thead>\n",
       "  <tbody>\n",
       "    <tr>\n",
       "      <th>0</th>\n",
       "      <td>H8F9L4</td>\n",
       "      <td>protein isoform</td>\n",
       "      <td>QVLIYDLIDLNCTRCWDWGTWWNL</td>\n",
       "      <td>Lorem ipsum binuk</td>\n",
       "      <td>8081</td>\n",
       "      <td>NaN</td>\n",
       "      <td>H8F9L4</td>\n",
       "      <td>uniprot</td>\n",
       "    </tr>\n",
       "    <tr>\n",
       "      <th>1</th>\n",
       "      <td>A0Q9J8</td>\n",
       "      <td>protein isoform</td>\n",
       "      <td>KFSRHINNGGEKAVQEWEQTSEGLVMGFRNSRWPYKWQQY</td>\n",
       "      <td>Lorem ipsum ebspk</td>\n",
       "      <td>5773</td>\n",
       "      <td>NaN</td>\n",
       "      <td>A0Q9J8</td>\n",
       "      <td>uniprot</td>\n",
       "    </tr>\n",
       "    <tr>\n",
       "      <th>2</th>\n",
       "      <td>L1K7W3</td>\n",
       "      <td>protein isoform</td>\n",
       "      <td>HVWMRWWFHGWINNYKEHWNSMMSITHASVLHKQEYQMEAGA</td>\n",
       "      <td>Lorem ipsum fxyad</td>\n",
       "      <td>4565</td>\n",
       "      <td>7372.0</td>\n",
       "      <td>L1K7W3</td>\n",
       "      <td>uniprot</td>\n",
       "    </tr>\n",
       "  </tbody>\n",
       "</table>\n",
       "</div>"
      ],
      "text/plain": [
       "  node_id       node_label                                    sequence  \\\n",
       "0  H8F9L4  protein isoform                    QVLIYDLIDLNCTRCWDWGTWWNL   \n",
       "1  A0Q9J8  protein isoform    KFSRHINNGGEKAVQEWEQTSEGLVMGFRNSRWPYKWQQY   \n",
       "2  L1K7W3  protein isoform  HVWMRWWFHGWINNYKEHWNSMMSITHASVLHKQEYQMEAGA   \n",
       "\n",
       "         description taxon    mass      id preferred_id  \n",
       "0  Lorem ipsum binuk  8081     NaN  H8F9L4      uniprot  \n",
       "1  Lorem ipsum ebspk  5773     NaN  A0Q9J8      uniprot  \n",
       "2  Lorem ipsum fxyad  4565  7372.0  L1K7W3      uniprot  "
      ]
     },
     "metadata": {},
     "output_type": "display_data"
    },
    {
     "name": "stdout",
     "output_type": "stream",
     "text": [
      "entrez.protein\n"
     ]
    },
    {
     "data": {
      "text/html": [
       "<div>\n",
       "<style scoped>\n",
       "    .dataframe tbody tr th:only-of-type {\n",
       "        vertical-align: middle;\n",
       "    }\n",
       "\n",
       "    .dataframe tbody tr th {\n",
       "        vertical-align: top;\n",
       "    }\n",
       "\n",
       "    .dataframe thead th {\n",
       "        text-align: right;\n",
       "    }\n",
       "</style>\n",
       "<table border=\"1\" class=\"dataframe\">\n",
       "  <thead>\n",
       "    <tr style=\"text-align: right;\">\n",
       "      <th></th>\n",
       "      <th>node_id</th>\n",
       "      <th>node_label</th>\n",
       "      <th>sequence</th>\n",
       "      <th>description</th>\n",
       "      <th>taxon</th>\n",
       "      <th>mass</th>\n",
       "      <th>id</th>\n",
       "      <th>preferred_id</th>\n",
       "    </tr>\n",
       "  </thead>\n",
       "  <tbody>\n",
       "    <tr>\n",
       "      <th>0</th>\n",
       "      <td>814463</td>\n",
       "      <td>entrez.protein</td>\n",
       "      <td>YRLSSQRYIYQKDGPDHQVL</td>\n",
       "      <td>Lorem ipsum sfcix</td>\n",
       "      <td>9606</td>\n",
       "      <td>None</td>\n",
       "      <td>814463</td>\n",
       "      <td>entrez</td>\n",
       "    </tr>\n",
       "    <tr>\n",
       "      <th>1</th>\n",
       "      <td>887207</td>\n",
       "      <td>entrez.protein</td>\n",
       "      <td>KFESNGEDSYHNYWDAQHYSMFVVRCPMPLGHGVNNWE</td>\n",
       "      <td>Lorem ipsum jkddr</td>\n",
       "      <td>9606</td>\n",
       "      <td>None</td>\n",
       "      <td>887207</td>\n",
       "      <td>entrez</td>\n",
       "    </tr>\n",
       "    <tr>\n",
       "      <th>2</th>\n",
       "      <td>681494</td>\n",
       "      <td>entrez.protein</td>\n",
       "      <td>KQFRNGMKHWMFANLEYKYWEHNPFRECT</td>\n",
       "      <td>Lorem ipsum auede</td>\n",
       "      <td>9606</td>\n",
       "      <td>None</td>\n",
       "      <td>681494</td>\n",
       "      <td>entrez</td>\n",
       "    </tr>\n",
       "  </tbody>\n",
       "</table>\n",
       "</div>"
      ],
      "text/plain": [
       "  node_id      node_label                                sequence  \\\n",
       "0  814463  entrez.protein                    YRLSSQRYIYQKDGPDHQVL   \n",
       "1  887207  entrez.protein  KFESNGEDSYHNYWDAQHYSMFVVRCPMPLGHGVNNWE   \n",
       "2  681494  entrez.protein           KQFRNGMKHWMFANLEYKYWEHNPFRECT   \n",
       "\n",
       "         description taxon  mass      id preferred_id  \n",
       "0  Lorem ipsum sfcix  9606  None  814463       entrez  \n",
       "1  Lorem ipsum jkddr  9606  None  887207       entrez  \n",
       "2  Lorem ipsum auede  9606  None  681494       entrez  "
      ]
     },
     "metadata": {},
     "output_type": "display_data"
    }
   ],
   "source": [
    "# create a list of proteins to be imported\n",
    "proteins = [\n",
    "    p for sublist in zip(\n",
    "        [RandomPropertyProtein() for _ in range(n_proteins)],\n",
    "        [RandomPropertyProteinIsoform() for _ in range(n_proteins)],\n",
    "        [EntrezProtein() for _ in range(n_proteins)],\n",
    "    ) for p in sublist\n",
    "]\n",
    "\n",
    "# Create BioCypher driver\n",
    "bc = BioCypher(\n",
    "    biocypher_config_path='05_biocypher_config_pandas.yaml',\n",
    "    schema_config_path='05_schema_config.yaml',\n",
    ")\n",
    "# Run the import\n",
    "bc.add(node_generator(proteins))\n",
    "\n",
    "for name, df in bc.to_df().items():\n",
    "    print(name)\n",
    "    display(df)"
   ]
  },
  {
   "attachments": {},
   "cell_type": "markdown",
   "metadata": {},
   "source": [
    "## Section 4: Handling relationships\n",
    "\n",
    "Naturally, we do not only want nodes in our knowledge graph, but also edges. In\n",
    "BioCypher, the configuration of relationships is very similar to that of nodes,\n",
    "with some key differences. First the similarities: the top-level class\n",
    "configuration of edges is the same; class names refer to ontological classes or\n",
    "are an extension thereof. Similarly, the `is_a` key is used to define\n",
    "inheritance, and the `inherit_properties` key is used to inherit properties from\n",
    "a parent class. Relationships also possess a `preferred_id` key, an\n",
    "`input_label` key, and a `properties` key, which work in the same way as for\n",
    "nodes.\n",
    "\n",
    "Relationships also have a `represented_as` key, which in this case can be\n",
    "either `node` or `edge`. The `node` option is used to \"reify\" the relationship\n",
    "in order to be able to connect it to other nodes in the graph. In addition to\n",
    "the configuration of nodes, relationships also have fields for the `source` and\n",
    "`target` node types, which refer to the ontological classes of the respective\n",
    "nodes, and are currently optional.\n",
    "\n",
    "To add protein-protein interactions to our graph, we can modify the schema configuration above to the following:"
   ]
  },
  {
   "cell_type": "code",
   "execution_count": 23,
   "metadata": {},
   "outputs": [
    {
     "name": "stdout",
     "output_type": "stream",
     "text": [
      "--------------\n",
      "protein:\n",
      "    represented_as: node\n",
      "    preferred_id:\n",
      "    - uniprot\n",
      "    - entrez\n",
      "    input_label:\n",
      "    - uniprot_protein\n",
      "    - entrez_protein\n",
      "    properties:\n",
      "        sequence: str\n",
      "        description: str\n",
      "        taxon: str\n",
      "        mass: int\n",
      "protein isoform:\n",
      "    is_a: protein\n",
      "    inherit_properties: true\n",
      "    represented_as: node\n",
      "    preferred_id: uniprot\n",
      "    input_label: uniprot_isoform\n",
      "protein protein interaction:\n",
      "    is_a: pairwise molecular interaction\n",
      "    represented_as: edge\n",
      "    preferred_id: intact\n",
      "    input_label: interacts_with\n",
      "    properties:\n",
      "        method: str\n",
      "        source: str\n",
      "\n",
      "--------------\n"
     ]
    }
   ],
   "source": [
    "print_yaml('06_schema_config_pandas.yaml')"
   ]
  },
  {
   "attachments": {},
   "cell_type": "markdown",
   "metadata": {},
   "source": [
    "Now that we have added `protein protein interaction` as an edge, we have to simulate some interactions:"
   ]
  },
  {
   "cell_type": "code",
   "execution_count": 24,
   "metadata": {},
   "outputs": [],
   "source": [
    "from data_generator import InteractionGenerator\n",
    "\n",
    "# Simulate edges for proteins we defined above\n",
    "ppi = InteractionGenerator(\n",
    "    interactors=[p.get_id() for p in proteins],\n",
    "    interaction_probability=0.05,\n",
    ").generate_interactions()"
   ]
  },
  {
   "cell_type": "code",
   "execution_count": 25,
   "metadata": {},
   "outputs": [
    {
     "data": {
      "text/plain": [
       "'814463 interacts_with 681494'"
      ]
     },
     "execution_count": 25,
     "metadata": {},
     "output_type": "execute_result"
    }
   ],
   "source": [
    "# naturally interactions/edges contain information about the interacting source and target nodes\n",
    "# let's look at the first one in the list\n",
    "interaction = ppi[0]\n",
    "f\"{interaction.get_source_id()} {interaction.label} {interaction.get_target_id()}\""
   ]
  },
  {
   "cell_type": "code",
   "execution_count": 26,
   "metadata": {},
   "outputs": [
    {
     "data": {
      "text/plain": [
       "{'method': 'Lorem ipsum sqeyz'}"
      ]
     },
     "execution_count": 26,
     "metadata": {},
     "output_type": "execute_result"
    }
   ],
   "source": [
    "# similarly to nodes, it also has a dictionary of properties\n",
    "interaction.get_properties()"
   ]
  },
  {
   "attachments": {},
   "cell_type": "markdown",
   "metadata": {},
   "source": [
    "As with nodes, we add first createa a new BioCypher instance, and then populate it with nodes as well as edges:"
   ]
  },
  {
   "cell_type": "code",
   "execution_count": 27,
   "metadata": {},
   "outputs": [
    {
     "name": "stderr",
     "output_type": "stream",
     "text": [
      "INFO -- Running BioCypher with schema configuration from 06_schema_config_pandas.yaml.\n"
     ]
    }
   ],
   "source": [
    "bc = BioCypher(\n",
    "    biocypher_config_path='06_biocypher_config_pandas.yaml',\n",
    "    schema_config_path='06_schema_config_pandas.yaml',\n",
    ")"
   ]
  },
  {
   "cell_type": "code",
   "execution_count": 28,
   "metadata": {},
   "outputs": [
    {
     "name": "stderr",
     "output_type": "stream",
     "text": [
      "INFO -- Loading ontologies...\n",
      "INFO -- Instantiating OntologyAdapter class for https://github.com/biolink/biolink-model/raw/v3.2.1/biolink-model.owl.ttl.\n"
     ]
    }
   ],
   "source": [
    "# Extract id, source, target, label, and property dictionary\n",
    "def edge_generator(ppi):\n",
    "    for interaction in ppi:\n",
    "        yield (\n",
    "            interaction.get_id(),\n",
    "            interaction.get_source_id(),\n",
    "            interaction.get_target_id(),\n",
    "            interaction.get_label(),\n",
    "            interaction.get_properties(),\n",
    "        )\n",
    "\n",
    "bc.add(node_generator(proteins))\n",
    "bc.add(edge_generator(ppi))\n"
   ]
  },
  {
   "attachments": {},
   "cell_type": "markdown",
   "metadata": {},
   "source": [
    "Let's look at the interaction DataFrame:"
   ]
  },
  {
   "cell_type": "code",
   "execution_count": 29,
   "metadata": {},
   "outputs": [
    {
     "data": {
      "text/html": [
       "<div>\n",
       "<style scoped>\n",
       "    .dataframe tbody tr th:only-of-type {\n",
       "        vertical-align: middle;\n",
       "    }\n",
       "\n",
       "    .dataframe tbody tr th {\n",
       "        vertical-align: top;\n",
       "    }\n",
       "\n",
       "    .dataframe thead th {\n",
       "        text-align: right;\n",
       "    }\n",
       "</style>\n",
       "<table border=\"1\" class=\"dataframe\">\n",
       "  <thead>\n",
       "    <tr style=\"text-align: right;\">\n",
       "      <th></th>\n",
       "      <th>relationship_id</th>\n",
       "      <th>source_id</th>\n",
       "      <th>target_id</th>\n",
       "      <th>relationship_label</th>\n",
       "      <th>method</th>\n",
       "      <th>source</th>\n",
       "    </tr>\n",
       "  </thead>\n",
       "  <tbody>\n",
       "    <tr>\n",
       "      <th>0</th>\n",
       "      <td>None</td>\n",
       "      <td>814463</td>\n",
       "      <td>681494</td>\n",
       "      <td>protein protein interaction</td>\n",
       "      <td>Lorem ipsum sqeyz</td>\n",
       "      <td>None</td>\n",
       "    </tr>\n",
       "  </tbody>\n",
       "</table>\n",
       "</div>"
      ],
      "text/plain": [
       "  relationship_id source_id target_id           relationship_label  \\\n",
       "0            None    814463    681494  protein protein interaction   \n",
       "\n",
       "              method source  \n",
       "0  Lorem ipsum sqeyz   None  "
      ]
     },
     "execution_count": 29,
     "metadata": {},
     "output_type": "execute_result"
    }
   ],
   "source": [
    "bc.to_df()[\"protein protein interaction\"]"
   ]
  },
  {
   "attachments": {},
   "cell_type": "markdown",
   "metadata": {},
   "source": [
    "Finally, it is worth noting that BioCypher relies on ontologies, which are machine readable representations of domains of knowledge that we use to ground the contents of our knowledge graphs. While details about ontologies are out of scope for this tutorial, and are described in detail in the [BioCypher documentation](https://biocypher.org/tutorial-ontology.html), we can still have a glimpse at the ontology that we used implicitly in this tutorial:"
   ]
  },
  {
   "cell_type": "code",
   "execution_count": 30,
   "metadata": {},
   "outputs": [
    {
     "name": "stderr",
     "output_type": "stream",
     "text": [
      "INFO -- Showing ontology structure based on https://github.com/biolink/biolink-model/raw/v3.2.1/biolink-model.owl.ttl\n",
      "INFO -- \n",
      "entity\n",
      "├── association\n",
      "│   └── gene to gene association\n",
      "│       └── pairwise gene to gene interaction\n",
      "│           └── pairwise molecular interaction\n",
      "│               └── protein protein interaction\n",
      "└── named thing\n",
      "    └── biological entity\n",
      "        └── polypeptide\n",
      "            └── protein\n",
      "                ├── entrez.protein\n",
      "                ├── protein isoform\n",
      "                └── uniprot.protein\n",
      "\n"
     ]
    },
    {
     "data": {
      "text/plain": [
       "<treelib.tree.Tree at 0x13058fd60>"
      ]
     },
     "execution_count": 30,
     "metadata": {},
     "output_type": "execute_result"
    }
   ],
   "source": [
    "bc.show_ontology_structure()"
   ]
  }
 ],
 "metadata": {
  "kernelspec": {
   "display_name": ".venv",
   "language": "python",
   "name": "python3"
  },
  "language_info": {
   "codemirror_mode": {
    "name": "ipython",
    "version": 3
   },
   "file_extension": ".py",
   "mimetype": "text/x-python",
   "name": "python",
   "nbconvert_exporter": "python",
   "pygments_lexer": "ipython3",
   "version": "3.10.13"
  },
  "orig_nbformat": 4
 },
 "nbformat": 4,
 "nbformat_minor": 2
}
